{
 "cells": [
  {
   "cell_type": "markdown",
   "metadata": {},
   "source": [
    "## Formal specification"
   ]
  },
  {
   "cell_type": "markdown",
   "metadata": {},
   "source": [
    "### Time and Space"
   ]
  },
  {
   "cell_type": "markdown",
   "metadata": {},
   "source": [
    "* Suppose that the day starts at ` time 0 ` and ends after ` T hours `. For specific time ` T ` there will be a broadcast for trip ` t ` at T where drives are located on location ` Ld `."
   ]
  },
  {
   "cell_type": "markdown",
   "metadata": {},
   "source": []
  },
  {
   "cell_type": "markdown",
   "metadata": {},
   "source": []
  },
  {
   "cell_type": "markdown",
   "metadata": {},
   "source": [
    "### Trips"
   ]
  },
  {
   "cell_type": "markdown",
   "metadata": {},
   "source": [
    "* There are ` T ` trips to be complete. Each trip ` t = { 1, 2,...., T} ` has a priority level ` 𝝅t ` (if priority is applied if not priority level will be ` 1 `) and requires ` pt ` minutes to be completed."
   ]
  },
  {
   "cell_type": "markdown",
   "metadata": {},
   "source": [
    "* Each trip ` t ` should be fully completed by time ` ct `."
   ]
  },
  {
   "cell_type": "markdown",
   "metadata": {},
   "source": [
    "* Let the distance between each trip origin and destination be ` tod `"
   ]
  },
  {
   "cell_type": "markdown",
   "metadata": {},
   "source": [
    "* Let the location of each trip be given by ` Lt = {1, 2,..., N}`."
   ]
  },
  {
   "cell_type": "markdown",
   "metadata": {},
   "source": [
    "### Drivers"
   ]
  },
  {
   "cell_type": "markdown",
   "metadata": {},
   "source": [
    "* There are K drivers available for work. Each driver is located at ` Ok = {1, 2,...,N} ` for ` k = {1,2,...,K}. ` "
   ]
  },
  {
   "cell_type": "markdown",
   "metadata": {},
   "source": [
    "* Each driver is located ` d ` distance away from the broadcasted order"
   ]
  },
  {
   "cell_type": "markdown",
   "metadata": {},
   "source": [
    "* Every driver can only accept 1 order at a single trip ` t `"
   ]
  },
  {
   "cell_type": "markdown",
   "metadata": {},
   "source": [
    "### Broadcasted Orders"
   ]
  },
  {
   "cell_type": "markdown",
   "metadata": {},
   "source": [
    "* There are ` b ` broadcasted orders ` b = {1, 2,....,B}` for every trip where ` B ` is total number of available nearby dirvers"
   ]
  },
  {
   "cell_type": "markdown",
   "metadata": {},
   "source": [
    "### Company's Problem"
   ]
  },
  {
   "cell_type": "markdown",
   "metadata": {},
   "source": [
    "* The destination of the trip defines where the driver will travel, from the trip origin to the trip destination, "
   ]
  },
  {
   "cell_type": "markdown",
   "metadata": {},
   "source": [
    "* To increase the number of fulfilled orders, plenty of drivers have to be placed in areas where most trips originated. "
   ]
  },
  {
   "cell_type": "markdown",
   "metadata": {},
   "source": [
    "* So for every driver's location ` Ld `, ` Ld `  has to be near the next predicted trip origin, "
   ]
  },
  {
   "cell_type": "markdown",
   "metadata": {},
   "source": [
    "$ \\sum \\limits _{b=1} ^{B} \\sum \\limits _{t=1} ^{T}𝝅t * \\Bigg[ \\sum \\limits _{k=1} ^{K} kd[k] \\Bigg] * tod$"
   ]
  },
  {
   "cell_type": "markdown",
   "metadata": {},
   "source": [
    "#### subject to the following constraints:"
   ]
  },
  {
   "cell_type": "markdown",
   "metadata": {},
   "source": [
    "1. Driver has to be closer to the trip origin\n",
    "\n",
    "   $ \\sum \\limits _{k=1} ^{K} kd[k] $ <br><br>\n",
    "    ` dk near lt ` (Location of trip origin)"
   ]
  },
  {
   "cell_type": "markdown",
   "metadata": {},
   "source": [
    "2. Distance between origin and destination <br>\n",
    "    $\\Bigg[ \\sum \\limits _{k=1} ^{K} kd[k] \\Bigg] * tod$ <br>\n",
    "    \n",
    "    for every trip distance ` tod < 20km `\n",
    "    "
   ]
  },
  {
   "cell_type": "markdown",
   "metadata": {},
   "source": []
  },
  {
   "cell_type": "markdown",
   "metadata": {},
   "source": []
  },
  {
   "cell_type": "markdown",
   "metadata": {},
   "source": []
  },
  {
   "cell_type": "markdown",
   "metadata": {},
   "source": []
  },
  {
   "cell_type": "markdown",
   "metadata": {},
   "source": []
  },
  {
   "cell_type": "markdown",
   "metadata": {},
   "source": []
  },
  {
   "cell_type": "markdown",
   "metadata": {},
   "source": []
  },
  {
   "cell_type": "markdown",
   "metadata": {},
   "source": []
  },
  {
   "cell_type": "markdown",
   "metadata": {},
   "source": []
  },
  {
   "cell_type": "markdown",
   "metadata": {},
   "source": []
  }
 ],
 "metadata": {
  "kernelspec": {
   "display_name": "Python 3 (ipykernel)",
   "language": "python",
   "name": "python3"
  },
  "language_info": {
   "codemirror_mode": {
    "name": "ipython",
    "version": 3
   },
   "file_extension": ".py",
   "mimetype": "text/x-python",
   "name": "python",
   "nbconvert_exporter": "python",
   "pygments_lexer": "ipython3",
   "version": "3.8.13"
  },
  "vscode": {
   "interpreter": {
    "hash": "90810a1a2cabaf40acfe3aafd02c958d619665500e7461ab9c2c47291976bae9"
   }
  }
 },
 "nbformat": 4,
 "nbformat_minor": 2
}
