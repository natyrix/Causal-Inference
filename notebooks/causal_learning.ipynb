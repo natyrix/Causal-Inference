{
 "cells": [
  {
   "cell_type": "markdown",
   "metadata": {},
   "source": [
    "#### Import Modules"
   ]
  },
  {
   "cell_type": "code",
   "execution_count": 1,
   "metadata": {},
   "outputs": [
    {
     "name": "stderr",
     "output_type": "stream",
     "text": [
      "/home/n/anaconda3/envs/env_causal/lib/python3.8/site-packages/tqdm/auto.py:22: TqdmWarning: IProgress not found. Please update jupyter and ipywidgets. See https://ipywidgets.readthedocs.io/en/stable/user_install.html\n",
      "  from .autonotebook import tqdm as notebook_tqdm\n"
     ]
    }
   ],
   "source": [
    "import warnings\n",
    "import pandas as pd\n",
    "import sys, os\n",
    "\n",
    "\n",
    "from causalnex.structure import StructureModel\n",
    "\n",
    "sys.path.append(os.path.abspath(os.path.join('../scripts')))\n",
    "from eda_pipeline import EDAPipeline\n",
    "from causal_learning_helper import CausalHelper\n",
    "warnings.filterwarnings(\"ignore\")"
   ]
  },
  {
   "cell_type": "code",
   "execution_count": 2,
   "metadata": {},
   "outputs": [
    {
     "name": "stdout",
     "output_type": "stream",
     "text": [
      "<class 'pandas.core.frame.DataFrame'>\n",
      "RangeIndex: 534369 entries, 0 to 534368\n",
      "Data columns (total 10 columns):\n",
      " #   Column            Non-Null Count   Dtype  \n",
      "---  ------            --------------   -----  \n",
      " 0   Unnamed: 0        534369 non-null  int64  \n",
      " 1   Trip ID           534369 non-null  int64  \n",
      " 2   Trip Origin       534369 non-null  object \n",
      " 3   Trip Destination  534369 non-null  object \n",
      " 4   Trip Start Time   534369 non-null  object \n",
      " 5   Trip End Time     534368 non-null  object \n",
      " 6   is_weekend        534369 non-null  int64  \n",
      " 7   is_holiday        534369 non-null  int64  \n",
      " 8   distance          534369 non-null  float64\n",
      " 9   speed             534369 non-null  float64\n",
      "dtypes: float64(2), int64(4), object(4)\n",
      "memory usage: 40.8+ MB\n"
     ]
    }
   ],
   "source": [
    "eda_pipeline = EDAPipeline()\n",
    "preprocessed_trip_df = eda_pipeline.read_data(path=\"../data/preprocessed_trip.csv\", version=\"v1_preprocessed\")\n",
    "preprocessed_trip_df.info()"
   ]
  },
  {
   "cell_type": "code",
   "execution_count": 3,
   "metadata": {},
   "outputs": [
    {
     "name": "stdout",
     "output_type": "stream",
     "text": [
      "<class 'pandas.core.frame.DataFrame'>\n",
      "RangeIndex: 1557740 entries, 0 to 1557739\n",
      "Data columns (total 8 columns):\n",
      " #   Column         Non-Null Count    Dtype  \n",
      "---  ------         --------------    -----  \n",
      " 0   id             1557740 non-null  int64  \n",
      " 1   order_id       1557740 non-null  int64  \n",
      " 2   driver_id      1557740 non-null  int64  \n",
      " 3   driver_action  1557740 non-null  object \n",
      " 4   lat            1557740 non-null  float64\n",
      " 5   lng            1557740 non-null  float64\n",
      " 6   created_at     0 non-null        float64\n",
      " 7   updated_at     0 non-null        float64\n",
      "dtypes: float64(4), int64(3), object(1)\n",
      "memory usage: 95.1+ MB\n"
     ]
    }
   ],
   "source": [
    "df_driver = eda_pipeline.read_data(path=\"../data/driver_locations_during_request.csv\", version=\"v1_driver\")\n",
    "df_driver.info()"
   ]
  },
  {
   "cell_type": "markdown",
   "metadata": {},
   "source": [
    "#### Merge the two datasets"
   ]
  },
  {
   "cell_type": "code",
   "execution_count": 4,
   "metadata": {},
   "outputs": [],
   "source": [
    "preprocessed_trip_df['driver_distance'] = preprocessed_trip_df['distance'].apply(lambda x: -1)\n",
    "preprocessed_trip_df['driver_lat'] = preprocessed_trip_df['distance'].apply(lambda x: 0.0)\n",
    "preprocessed_trip_df['driver_lng'] = preprocessed_trip_df['distance'].apply(lambda x: 0.0)\n"
   ]
  },
  {
   "cell_type": "code",
   "execution_count": 5,
   "metadata": {},
   "outputs": [],
   "source": [
    "causalhelper = CausalHelper()"
   ]
  },
  {
   "cell_type": "code",
   "execution_count": null,
   "metadata": {},
   "outputs": [],
   "source": []
  },
  {
   "cell_type": "code",
   "execution_count": 6,
   "metadata": {},
   "outputs": [],
   "source": [
    "driver_lat,driver_lng = causalhelper.combine_get_driver_locations(preprocessed_trip_df, df_driver)"
   ]
  },
  {
   "cell_type": "code",
   "execution_count": 7,
   "metadata": {},
   "outputs": [],
   "source": [
    "preprocessed_trip_df['driver_lat'] = driver_lat\n",
    "preprocessed_trip_df['driver_lng'] = driver_lng"
   ]
  },
  {
   "cell_type": "code",
   "execution_count": 9,
   "metadata": {},
   "outputs": [],
   "source": [
    "driver_lat_coordinates = preprocessed_trip_df['driver_lat'].tolist()\n",
    "driver_lng_coordinates = preprocessed_trip_df['driver_lng'].tolist()\n",
    "ending_coordinates = []\n",
    "for i in range(len(driver_lat_coordinates)):\n",
    "    ending_coordinates.append(f'{driver_lat_coordinates[i]},{driver_lng_coordinates[i]}')"
   ]
  },
  {
   "cell_type": "code",
   "execution_count": 10,
   "metadata": {},
   "outputs": [],
   "source": [
    "start_coordinates = preprocessed_trip_df['Trip Origin'].tolist()"
   ]
  },
  {
   "cell_type": "markdown",
   "metadata": {},
   "source": [
    "#### Calculate distance based on coordinates of driver"
   ]
  },
  {
   "cell_type": "code",
   "execution_count": 11,
   "metadata": {},
   "outputs": [],
   "source": [
    "preprocessed_trip_df['driver_distance'] = eda_pipeline.calculate_distances(start_coordinates, ending_coordinates)\n"
   ]
  },
  {
   "cell_type": "markdown",
   "metadata": {},
   "source": [
    "#### Drop all the trips with -1 driver distance which means those orders were not in the 2nd dataset"
   ]
  },
  {
   "cell_type": "code",
   "execution_count": 13,
   "metadata": {},
   "outputs": [
    {
     "data": {
      "text/plain": [
       "(26436, 13)"
      ]
     },
     "execution_count": 13,
     "metadata": {},
     "output_type": "execute_result"
    }
   ],
   "source": [
    "preprocessed_trip_df_with_drivers = preprocessed_trip_df[preprocessed_trip_df['driver_distance']!=-1]\n",
    "preprocessed_trip_df_with_drivers.shape"
   ]
  },
  {
   "cell_type": "markdown",
   "metadata": {},
   "source": [
    "#### Compute unfulfilled orders"
   ]
  },
  {
   "cell_type": "code",
   "execution_count": 14,
   "metadata": {},
   "outputs": [],
   "source": [
    "preprocessed_trip_df_with_drivers['is_fulfilled'] = preprocessed_trip_df_with_drivers['driver_distance'].apply(\n",
    "    lambda x: 1 if x !=-2 else 0)"
   ]
  },
  {
   "cell_type": "code",
   "execution_count": 16,
   "metadata": {},
   "outputs": [
    {
     "data": {
      "text/plain": [
       "(609, 14)"
      ]
     },
     "execution_count": 16,
     "metadata": {},
     "output_type": "execute_result"
    }
   ],
   "source": [
    "preprocessed_trip_df_with_drivers[preprocessed_trip_df_with_drivers['is_fulfilled']==0].shape"
   ]
  },
  {
   "cell_type": "markdown",
   "metadata": {},
   "source": [
    "#### Drop Unwanted columns"
   ]
  },
  {
   "cell_type": "code",
   "execution_count": 17,
   "metadata": {},
   "outputs": [
    {
     "name": "stdout",
     "output_type": "stream",
     "text": [
      "<class 'pandas.core.frame.DataFrame'>\n",
      "Int64Index: 26436 entries, 4 to 53812\n",
      "Data columns (total 14 columns):\n",
      " #   Column            Non-Null Count  Dtype  \n",
      "---  ------            --------------  -----  \n",
      " 0   Unnamed: 0        26436 non-null  int64  \n",
      " 1   Trip ID           26436 non-null  int64  \n",
      " 2   Trip Origin       26436 non-null  object \n",
      " 3   Trip Destination  26436 non-null  object \n",
      " 4   Trip Start Time   26436 non-null  object \n",
      " 5   Trip End Time     26436 non-null  object \n",
      " 6   is_weekend        26436 non-null  int64  \n",
      " 7   is_holiday        26436 non-null  int64  \n",
      " 8   distance          26436 non-null  float64\n",
      " 9   speed             26436 non-null  float64\n",
      " 10  driver_distance   26436 non-null  float64\n",
      " 11  driver_lat        26436 non-null  float64\n",
      " 12  driver_lng        26436 non-null  float64\n",
      " 13  is_fulfilled      26436 non-null  int64  \n",
      "dtypes: float64(5), int64(5), object(4)\n",
      "memory usage: 3.0+ MB\n"
     ]
    }
   ],
   "source": [
    "preprocessed_trip_df_with_drivers.info()"
   ]
  },
  {
   "cell_type": "markdown",
   "metadata": {},
   "source": [
    "#### Save Data"
   ]
  },
  {
   "cell_type": "code",
   "execution_count": 18,
   "metadata": {},
   "outputs": [],
   "source": [
    "preprocessed_trip_df_with_drivers.to_csv(\"../data/preprocessed_trip_df_with_drivers_fulfilled.csv\")"
   ]
  },
  {
   "cell_type": "code",
   "execution_count": 19,
   "metadata": {},
   "outputs": [],
   "source": [
    "cols = ['Trip ID','Unnamed: 0', 'Trip Origin', 'Trip Destination', 'Trip Start Time', 'Trip End Time', 'driver_lat', 'driver_lng']\n",
    "preprocessed_trip_df_with_drivers = preprocessed_trip_df_with_drivers.drop(columns=cols)"
   ]
  },
  {
   "cell_type": "code",
   "execution_count": 20,
   "metadata": {},
   "outputs": [
    {
     "name": "stdout",
     "output_type": "stream",
     "text": [
      "<class 'pandas.core.frame.DataFrame'>\n",
      "Int64Index: 26436 entries, 4 to 53812\n",
      "Data columns (total 6 columns):\n",
      " #   Column           Non-Null Count  Dtype  \n",
      "---  ------           --------------  -----  \n",
      " 0   is_weekend       26436 non-null  int64  \n",
      " 1   is_holiday       26436 non-null  int64  \n",
      " 2   distance         26436 non-null  float64\n",
      " 3   speed            26436 non-null  float64\n",
      " 4   driver_distance  26436 non-null  float64\n",
      " 5   is_fulfilled     26436 non-null  int64  \n",
      "dtypes: float64(3), int64(3)\n",
      "memory usage: 1.4 MB\n"
     ]
    }
   ],
   "source": [
    "preprocessed_trip_df_with_drivers.info()"
   ]
  },
  {
   "cell_type": "markdown",
   "metadata": {},
   "source": [
    "#### Create Structure Model"
   ]
  },
  {
   "cell_type": "code",
   "execution_count": 21,
   "metadata": {},
   "outputs": [],
   "source": [
    "sm = StructureModel()"
   ]
  },
  {
   "cell_type": "markdown",
   "metadata": {},
   "source": [
    "#### Create Edges"
   ]
  },
  {
   "cell_type": "markdown",
   "metadata": {},
   "source": [
    "#### Transform and encode "
   ]
  },
  {
   "cell_type": "code",
   "execution_count": 27,
   "metadata": {},
   "outputs": [
    {
     "name": "stdout",
     "output_type": "stream",
     "text": [
      "[]\n"
     ]
    }
   ],
   "source": [
    "import numpy as np\n",
    "\n",
    "struct_data = preprocessed_trip_df_with_drivers.copy()\n",
    "non_numeric_columns = list(struct_data.select_dtypes(exclude=[np.number]).columns)\n",
    "\n",
    "print(non_numeric_columns)"
   ]
  },
  {
   "cell_type": "code",
   "execution_count": 40,
   "metadata": {},
   "outputs": [],
   "source": [
    "from sklearn.preprocessing import LabelEncoder\n",
    "\n",
    "le = LabelEncoder()\n",
    "\n",
    "for col in non_numeric_columns:\n",
    "    struct_data[col] = le.fit_transform(struct_data[col])\n",
    "\n",
    "# struct_data.head(5)"
   ]
  },
  {
   "cell_type": "markdown",
   "metadata": {},
   "source": [
    "#### Scale and normalize numerical data"
   ]
  },
  {
   "cell_type": "code",
   "execution_count": 28,
   "metadata": {},
   "outputs": [],
   "source": [
    "from sklearn import preprocessing\n",
    "\n",
    "x = struct_data.values #returns a numpy array\n",
    "min_max_scaler = preprocessing.MinMaxScaler()\n",
    "x_scaled = min_max_scaler.fit_transform(x)\n",
    "df = pd.DataFrame(x_scaled)"
   ]
  },
  {
   "cell_type": "markdown",
   "metadata": {},
   "source": [
    "#### Apply the NOTEARS algorithm to learn the structure."
   ]
  },
  {
   "cell_type": "code",
   "execution_count": 30,
   "metadata": {},
   "outputs": [],
   "source": [
    "from causalnex.structure.notears import from_pandas\n",
    "\n",
    "sm = from_pandas(df)"
   ]
  },
  {
   "cell_type": "markdown",
   "metadata": {},
   "source": [
    "#### Visualize"
   ]
  },
  {
   "cell_type": "code",
   "execution_count": 31,
   "metadata": {},
   "outputs": [
    {
     "data": {
      "image/png": "[encoded data removed]",
      "text/plain": [
       "<IPython.core.display.Image object>"
      ]
     },
     "execution_count": 31,
     "metadata": {},
     "output_type": "execute_result"
    }
   ],
   "source": [
    "from IPython.display import Image\n",
    "from causalnex.plots import plot_structure, NODE_STYLE, EDGE_STYLE\n",
    "\n",
    "\n",
    "viz = plot_structure(\n",
    "    sm,\n",
    "    graph_attributes={\"scale\": \"0.5\"},\n",
    "    all_node_attributes=NODE_STYLE.WEAK,\n",
    "    all_edge_attributes=EDGE_STYLE.WEAK,\n",
    "    prog='fdp',\n",
    ")\n",
    "Image(viz.draw(format='png'))"
   ]
  },
  {
   "cell_type": "markdown",
   "metadata": {},
   "source": [
    "`The reason why we have a fully connected graph here is we haven’t applied thresholding to the weaker edges. Thresholding can be applied either by specifying the value for the parameter w_threshold in from_pandas, or we can remove the edges by calling the structure model function, remove_edges_below_threshold.`"
   ]
  },
  {
   "cell_type": "code",
   "execution_count": 32,
   "metadata": {},
   "outputs": [
    {
     "data": {
      "image/png": "[encoded data removed]",
      "text/plain": [
       "<IPython.core.display.Image object>"
      ]
     },
     "execution_count": 32,
     "metadata": {},
     "output_type": "execute_result"
    }
   ],
   "source": [
    "sm.remove_edges_below_threshold(0.8)\n",
    "viz = plot_structure(\n",
    "    sm,\n",
    "    graph_attributes={\"scale\": \"0.5\"},\n",
    "    all_node_attributes=NODE_STYLE.WEAK,\n",
    "    all_edge_attributes=EDGE_STYLE.WEAK,\n",
    ")\n",
    "Image(viz.draw(format='png'))"
   ]
  },
  {
   "cell_type": "markdown",
   "metadata": {},
   "source": [
    " `Normalized column names`<br>\n",
    " 0   is_weekend       <br>\n",
    " 1   is_holiday        <br>  \n",
    " 2   distance          <br>\n",
    " 3   speed             <br>\n",
    " 4   driver_distance   <br>\n",
    " 5   is_fulfilled  \n",
    "\n",
    " {'is_weekend': 0,\n",
    " 'is_holiday': 1,\n",
    " 'distance': 2,\n",
    " 'speed': 3,\n",
    " 'driver_distance': 4,\n",
    " 'is_fulfilled': 5}"
   ]
  },
  {
   "cell_type": "markdown",
   "metadata": {},
   "source": [
    "* Correct relationships <br>\n",
    "`distance` ---> `is_fulfilled`<br>\n",
    "`distance` ---> `is_fulfilled` <br>\n",
    "`driver_distance` ---> `is_fulfilled` <br>\n",
    "\n",
    "* Incorrect relationships <br>\n",
    "`distance` ---> `is_weekend` <br>\n",
    "`driver_distance` ---> `is_weeken` <br>"
   ]
  },
  {
   "cell_type": "markdown",
   "metadata": {},
   "source": [
    "#### Lets re-run structure learning wuth additional constraints to avoid incorrect relationships"
   ]
  },
  {
   "cell_type": "markdown",
   "metadata": {},
   "source": [
    "##### Rename cols"
   ]
  },
  {
   "cell_type": "code",
   "execution_count": 46,
   "metadata": {},
   "outputs": [],
   "source": [
    "df = df.rename(columns={0: \"is_weekend\", 1: \"is_holiday\", 2: \"distance\", 3: \"speed\",4: \"driver_distance\", 5: \"is_fulfilled\"}, errors=\"raise\")"
   ]
  },
  {
   "cell_type": "code",
   "execution_count": 47,
   "metadata": {},
   "outputs": [
    {
     "data": {
      "text/html": [
       "<div>\n",
       "<style scoped>\n",
       "    .dataframe tbody tr th:only-of-type {\n",
       "        vertical-align: middle;\n",
       "    }\n",
       "\n",
       "    .dataframe tbody tr th {\n",
       "        vertical-align: top;\n",
       "    }\n",
       "\n",
       "    .dataframe thead th {\n",
       "        text-align: right;\n",
       "    }\n",
       "</style>\n",
       "<table border=\"1\" class=\"dataframe\">\n",
       "  <thead>\n",
       "    <tr style=\"text-align: right;\">\n",
       "      <th></th>\n",
       "      <th>is_weekend</th>\n",
       "      <th>is_holiday</th>\n",
       "      <th>distance</th>\n",
       "      <th>speed</th>\n",
       "      <th>driver_distance</th>\n",
       "      <th>is_fulfilled</th>\n",
       "    </tr>\n",
       "  </thead>\n",
       "  <tbody>\n",
       "    <tr>\n",
       "      <th>0</th>\n",
       "      <td>0.0</td>\n",
       "      <td>0.0</td>\n",
       "      <td>0.030832</td>\n",
       "      <td>0.018849</td>\n",
       "      <td>0.004094</td>\n",
       "      <td>1.0</td>\n",
       "    </tr>\n",
       "    <tr>\n",
       "      <th>1</th>\n",
       "      <td>0.0</td>\n",
       "      <td>0.0</td>\n",
       "      <td>0.011927</td>\n",
       "      <td>0.000770</td>\n",
       "      <td>0.006017</td>\n",
       "      <td>1.0</td>\n",
       "    </tr>\n",
       "    <tr>\n",
       "      <th>2</th>\n",
       "      <td>0.0</td>\n",
       "      <td>0.0</td>\n",
       "      <td>0.007388</td>\n",
       "      <td>0.000266</td>\n",
       "      <td>0.007518</td>\n",
       "      <td>1.0</td>\n",
       "    </tr>\n",
       "    <tr>\n",
       "      <th>3</th>\n",
       "      <td>0.0</td>\n",
       "      <td>0.0</td>\n",
       "      <td>0.008225</td>\n",
       "      <td>0.000519</td>\n",
       "      <td>0.004859</td>\n",
       "      <td>1.0</td>\n",
       "    </tr>\n",
       "    <tr>\n",
       "      <th>4</th>\n",
       "      <td>0.0</td>\n",
       "      <td>0.0</td>\n",
       "      <td>0.028036</td>\n",
       "      <td>0.001399</td>\n",
       "      <td>0.003340</td>\n",
       "      <td>1.0</td>\n",
       "    </tr>\n",
       "    <tr>\n",
       "      <th>...</th>\n",
       "      <td>...</td>\n",
       "      <td>...</td>\n",
       "      <td>...</td>\n",
       "      <td>...</td>\n",
       "      <td>...</td>\n",
       "      <td>...</td>\n",
       "    </tr>\n",
       "    <tr>\n",
       "      <th>26431</th>\n",
       "      <td>0.0</td>\n",
       "      <td>0.0</td>\n",
       "      <td>0.003773</td>\n",
       "      <td>0.000197</td>\n",
       "      <td>0.005521</td>\n",
       "      <td>1.0</td>\n",
       "    </tr>\n",
       "    <tr>\n",
       "      <th>26432</th>\n",
       "      <td>1.0</td>\n",
       "      <td>0.0</td>\n",
       "      <td>0.005256</td>\n",
       "      <td>0.001202</td>\n",
       "      <td>0.007197</td>\n",
       "      <td>1.0</td>\n",
       "    </tr>\n",
       "    <tr>\n",
       "      <th>26433</th>\n",
       "      <td>1.0</td>\n",
       "      <td>0.0</td>\n",
       "      <td>0.039313</td>\n",
       "      <td>0.001822</td>\n",
       "      <td>0.007742</td>\n",
       "      <td>1.0</td>\n",
       "    </tr>\n",
       "    <tr>\n",
       "      <th>26434</th>\n",
       "      <td>0.0</td>\n",
       "      <td>0.0</td>\n",
       "      <td>0.026934</td>\n",
       "      <td>0.000890</td>\n",
       "      <td>0.005839</td>\n",
       "      <td>1.0</td>\n",
       "    </tr>\n",
       "    <tr>\n",
       "      <th>26435</th>\n",
       "      <td>0.0</td>\n",
       "      <td>0.0</td>\n",
       "      <td>0.011906</td>\n",
       "      <td>0.000255</td>\n",
       "      <td>0.006531</td>\n",
       "      <td>1.0</td>\n",
       "    </tr>\n",
       "  </tbody>\n",
       "</table>\n",
       "<p>26436 rows × 6 columns</p>\n",
       "</div>"
      ],
      "text/plain": [
       "       is_weekend  is_holiday  distance     speed  driver_distance  \\\n",
       "0             0.0         0.0  0.030832  0.018849         0.004094   \n",
       "1             0.0         0.0  0.011927  0.000770         0.006017   \n",
       "2             0.0         0.0  0.007388  0.000266         0.007518   \n",
       "3             0.0         0.0  0.008225  0.000519         0.004859   \n",
       "4             0.0         0.0  0.028036  0.001399         0.003340   \n",
       "...           ...         ...       ...       ...              ...   \n",
       "26431         0.0         0.0  0.003773  0.000197         0.005521   \n",
       "26432         1.0         0.0  0.005256  0.001202         0.007197   \n",
       "26433         1.0         0.0  0.039313  0.001822         0.007742   \n",
       "26434         0.0         0.0  0.026934  0.000890         0.005839   \n",
       "26435         0.0         0.0  0.011906  0.000255         0.006531   \n",
       "\n",
       "       is_fulfilled  \n",
       "0               1.0  \n",
       "1               1.0  \n",
       "2               1.0  \n",
       "3               1.0  \n",
       "4               1.0  \n",
       "...             ...  \n",
       "26431           1.0  \n",
       "26432           1.0  \n",
       "26433           1.0  \n",
       "26434           1.0  \n",
       "26435           1.0  \n",
       "\n",
       "[26436 rows x 6 columns]"
      ]
     },
     "execution_count": 47,
     "metadata": {},
     "output_type": "execute_result"
    }
   ],
   "source": [
    "df"
   ]
  },
  {
   "cell_type": "code",
   "execution_count": 48,
   "metadata": {},
   "outputs": [],
   "source": [
    "sm = from_pandas(df, tabu_edges=[(\"driver_distance\", \"is_weekend\"),(\"distance\", \"is_weekend\")], w_threshold=0.8)"
   ]
  },
  {
   "cell_type": "code",
   "execution_count": 49,
   "metadata": {},
   "outputs": [
    {
     "data": {
      "image/png": "[encoded data removed]",
      "text/plain": [
       "<IPython.core.display.Image object>"
      ]
     },
     "execution_count": 49,
     "metadata": {},
     "output_type": "execute_result"
    }
   ],
   "source": [
    "viz = plot_structure(\n",
    "    sm,\n",
    "    graph_attributes={\"scale\": \"0.5\"},\n",
    "    all_node_attributes=NODE_STYLE.WEAK,\n",
    "    all_edge_attributes=EDGE_STYLE.WEAK,\n",
    ")\n",
    "Image(viz.draw(format='png'))"
   ]
  },
  {
   "cell_type": "code",
   "execution_count": 50,
   "metadata": {},
   "outputs": [],
   "source": [
    "sm.add_edge(\"is_weekend\", \"is_fulfilled\")\n",
    "sm.add_edge(\"is_holiday\", \"is_fulfilled\")"
   ]
  },
  {
   "cell_type": "code",
   "execution_count": 51,
   "metadata": {},
   "outputs": [
    {
     "data": {
      "image/png": "[encoded data removed]",
      "text/plain": [
       "<IPython.core.display.Image object>"
      ]
     },
     "execution_count": 51,
     "metadata": {},
     "output_type": "execute_result"
    }
   ],
   "source": [
    "viz = plot_structure(\n",
    "    sm,\n",
    "    graph_attributes={\"scale\": \"0.5\"},\n",
    "    all_node_attributes=NODE_STYLE.WEAK,\n",
    "    all_edge_attributes=EDGE_STYLE.WEAK,\n",
    ")\n",
    "Image(viz.draw(format='png'))"
   ]
  },
  {
   "cell_type": "markdown",
   "metadata": {},
   "source": [
    "#### Exporting the Structure"
   ]
  },
  {
   "cell_type": "code",
   "execution_count": 53,
   "metadata": {},
   "outputs": [],
   "source": [
    "import networkx as nx\n",
    "\n",
    "nx.drawing.nx_pydot.write_dot(sm, '../graphs/graph.dot')"
   ]
  },
  {
   "cell_type": "markdown",
   "metadata": {},
   "source": [
    "#### Fitting the Conditional Distribution of the Bayesian Network"
   ]
  },
  {
   "cell_type": "code",
   "execution_count": 54,
   "metadata": {},
   "outputs": [],
   "source": [
    "from causalnex.network import BayesianNetwork\n",
    "\n",
    "bn = BayesianNetwork(sm)"
   ]
  },
  {
   "cell_type": "markdown",
   "metadata": {},
   "source": [
    "#### Preparing the Discretised Data"
   ]
  },
  {
   "cell_type": "markdown",
   "metadata": {},
   "source": [
    "#### Cardinality of Categorical Features"
   ]
  },
  {
   "cell_type": "code",
   "execution_count": 85,
   "metadata": {},
   "outputs": [
    {
     "data": {
      "text/html": [
       "<div>\n",
       "<style scoped>\n",
       "    .dataframe tbody tr th:only-of-type {\n",
       "        vertical-align: middle;\n",
       "    }\n",
       "\n",
       "    .dataframe tbody tr th {\n",
       "        vertical-align: top;\n",
       "    }\n",
       "\n",
       "    .dataframe thead th {\n",
       "        text-align: right;\n",
       "    }\n",
       "</style>\n",
       "<table border=\"1\" class=\"dataframe\">\n",
       "  <thead>\n",
       "    <tr style=\"text-align: right;\">\n",
       "      <th></th>\n",
       "      <th>is_weekend</th>\n",
       "      <th>is_holiday</th>\n",
       "      <th>distance</th>\n",
       "      <th>speed</th>\n",
       "      <th>driver_distance</th>\n",
       "      <th>is_fulfilled</th>\n",
       "    </tr>\n",
       "  </thead>\n",
       "  <tbody>\n",
       "    <tr>\n",
       "      <th>4</th>\n",
       "      <td>0</td>\n",
       "      <td>0</td>\n",
       "      <td>20.984319</td>\n",
       "      <td>348.126952</td>\n",
       "      <td>0.694264</td>\n",
       "      <td>1</td>\n",
       "    </tr>\n",
       "    <tr>\n",
       "      <th>5</th>\n",
       "      <td>0</td>\n",
       "      <td>0</td>\n",
       "      <td>8.127195</td>\n",
       "      <td>14.237422</td>\n",
       "      <td>1.959786</td>\n",
       "      <td>1</td>\n",
       "    </tr>\n",
       "    <tr>\n",
       "      <th>6</th>\n",
       "      <td>0</td>\n",
       "      <td>0</td>\n",
       "      <td>5.040921</td>\n",
       "      <td>4.929996</td>\n",
       "      <td>2.947683</td>\n",
       "      <td>1</td>\n",
       "    </tr>\n",
       "    <tr>\n",
       "      <th>7</th>\n",
       "      <td>0</td>\n",
       "      <td>0</td>\n",
       "      <td>5.609962</td>\n",
       "      <td>9.607927</td>\n",
       "      <td>1.197389</td>\n",
       "      <td>1</td>\n",
       "    </tr>\n",
       "    <tr>\n",
       "      <th>8</th>\n",
       "      <td>0</td>\n",
       "      <td>0</td>\n",
       "      <td>19.082399</td>\n",
       "      <td>25.854963</td>\n",
       "      <td>0.197853</td>\n",
       "      <td>1</td>\n",
       "    </tr>\n",
       "    <tr>\n",
       "      <th>...</th>\n",
       "      <td>...</td>\n",
       "      <td>...</td>\n",
       "      <td>...</td>\n",
       "      <td>...</td>\n",
       "      <td>...</td>\n",
       "      <td>...</td>\n",
       "    </tr>\n",
       "    <tr>\n",
       "      <th>44825</th>\n",
       "      <td>0</td>\n",
       "      <td>0</td>\n",
       "      <td>2.582307</td>\n",
       "      <td>3.661404</td>\n",
       "      <td>1.633417</td>\n",
       "      <td>1</td>\n",
       "    </tr>\n",
       "    <tr>\n",
       "      <th>44847</th>\n",
       "      <td>1</td>\n",
       "      <td>0</td>\n",
       "      <td>3.590521</td>\n",
       "      <td>22.209406</td>\n",
       "      <td>2.736381</td>\n",
       "      <td>1</td>\n",
       "    </tr>\n",
       "    <tr>\n",
       "      <th>46712</th>\n",
       "      <td>1</td>\n",
       "      <td>0</td>\n",
       "      <td>26.751642</td>\n",
       "      <td>33.661626</td>\n",
       "      <td>3.094992</td>\n",
       "      <td>1</td>\n",
       "    </tr>\n",
       "    <tr>\n",
       "      <th>51071</th>\n",
       "      <td>0</td>\n",
       "      <td>0</td>\n",
       "      <td>18.333328</td>\n",
       "      <td>16.450643</td>\n",
       "      <td>1.842496</td>\n",
       "      <td>1</td>\n",
       "    </tr>\n",
       "    <tr>\n",
       "      <th>53812</th>\n",
       "      <td>0</td>\n",
       "      <td>0</td>\n",
       "      <td>8.112927</td>\n",
       "      <td>4.735939</td>\n",
       "      <td>2.297595</td>\n",
       "      <td>1</td>\n",
       "    </tr>\n",
       "  </tbody>\n",
       "</table>\n",
       "<p>26436 rows × 6 columns</p>\n",
       "</div>"
      ],
      "text/plain": [
       "       is_weekend  is_holiday   distance       speed  driver_distance  \\\n",
       "4               0           0  20.984319  348.126952         0.694264   \n",
       "5               0           0   8.127195   14.237422         1.959786   \n",
       "6               0           0   5.040921    4.929996         2.947683   \n",
       "7               0           0   5.609962    9.607927         1.197389   \n",
       "8               0           0  19.082399   25.854963         0.197853   \n",
       "...           ...         ...        ...         ...              ...   \n",
       "44825           0           0   2.582307    3.661404         1.633417   \n",
       "44847           1           0   3.590521   22.209406         2.736381   \n",
       "46712           1           0  26.751642   33.661626         3.094992   \n",
       "51071           0           0  18.333328   16.450643         1.842496   \n",
       "53812           0           0   8.112927    4.735939         2.297595   \n",
       "\n",
       "       is_fulfilled  \n",
       "4                 1  \n",
       "5                 1  \n",
       "6                 1  \n",
       "7                 1  \n",
       "8                 1  \n",
       "...             ...  \n",
       "44825             1  \n",
       "44847             1  \n",
       "46712             1  \n",
       "51071             1  \n",
       "53812             1  \n",
       "\n",
       "[26436 rows x 6 columns]"
      ]
     },
     "execution_count": 85,
     "metadata": {},
     "output_type": "execute_result"
    }
   ],
   "source": [
    "df_c = preprocessed_trip_df_with_drivers.copy()\n",
    "df_c"
   ]
  },
  {
   "cell_type": "code",
   "execution_count": 86,
   "metadata": {},
   "outputs": [],
   "source": [
    "df_c['is_weekend'] = df_c['is_weekend'].apply(lambda x: 'weekday' if x == 0 else \"weekend\")\n",
    "df_c['is_holiday'] = df_c['is_holiday'].apply(lambda x: 'holiday' if x !=0 else \"no-holiday\")\n",
    "df_c['is_fulfilled'] = df_c['is_fulfilled'].apply(lambda x: 'fulfilled' if x !=0 else \"unfulfilled\")"
   ]
  },
  {
   "cell_type": "code",
   "execution_count": 87,
   "metadata": {},
   "outputs": [
    {
     "data": {
      "text/html": [
       "<div>\n",
       "<style scoped>\n",
       "    .dataframe tbody tr th:only-of-type {\n",
       "        vertical-align: middle;\n",
       "    }\n",
       "\n",
       "    .dataframe tbody tr th {\n",
       "        vertical-align: top;\n",
       "    }\n",
       "\n",
       "    .dataframe thead th {\n",
       "        text-align: right;\n",
       "    }\n",
       "</style>\n",
       "<table border=\"1\" class=\"dataframe\">\n",
       "  <thead>\n",
       "    <tr style=\"text-align: right;\">\n",
       "      <th></th>\n",
       "      <th>is_weekend</th>\n",
       "      <th>is_holiday</th>\n",
       "      <th>distance</th>\n",
       "      <th>speed</th>\n",
       "      <th>driver_distance</th>\n",
       "      <th>is_fulfilled</th>\n",
       "    </tr>\n",
       "  </thead>\n",
       "  <tbody>\n",
       "    <tr>\n",
       "      <th>4</th>\n",
       "      <td>weekday</td>\n",
       "      <td>no-holiday</td>\n",
       "      <td>20.984319</td>\n",
       "      <td>348.126952</td>\n",
       "      <td>0.694264</td>\n",
       "      <td>fulfilled</td>\n",
       "    </tr>\n",
       "    <tr>\n",
       "      <th>5</th>\n",
       "      <td>weekday</td>\n",
       "      <td>no-holiday</td>\n",
       "      <td>8.127195</td>\n",
       "      <td>14.237422</td>\n",
       "      <td>1.959786</td>\n",
       "      <td>fulfilled</td>\n",
       "    </tr>\n",
       "    <tr>\n",
       "      <th>6</th>\n",
       "      <td>weekday</td>\n",
       "      <td>no-holiday</td>\n",
       "      <td>5.040921</td>\n",
       "      <td>4.929996</td>\n",
       "      <td>2.947683</td>\n",
       "      <td>fulfilled</td>\n",
       "    </tr>\n",
       "    <tr>\n",
       "      <th>7</th>\n",
       "      <td>weekday</td>\n",
       "      <td>no-holiday</td>\n",
       "      <td>5.609962</td>\n",
       "      <td>9.607927</td>\n",
       "      <td>1.197389</td>\n",
       "      <td>fulfilled</td>\n",
       "    </tr>\n",
       "    <tr>\n",
       "      <th>8</th>\n",
       "      <td>weekday</td>\n",
       "      <td>no-holiday</td>\n",
       "      <td>19.082399</td>\n",
       "      <td>25.854963</td>\n",
       "      <td>0.197853</td>\n",
       "      <td>fulfilled</td>\n",
       "    </tr>\n",
       "    <tr>\n",
       "      <th>...</th>\n",
       "      <td>...</td>\n",
       "      <td>...</td>\n",
       "      <td>...</td>\n",
       "      <td>...</td>\n",
       "      <td>...</td>\n",
       "      <td>...</td>\n",
       "    </tr>\n",
       "    <tr>\n",
       "      <th>44825</th>\n",
       "      <td>weekday</td>\n",
       "      <td>no-holiday</td>\n",
       "      <td>2.582307</td>\n",
       "      <td>3.661404</td>\n",
       "      <td>1.633417</td>\n",
       "      <td>fulfilled</td>\n",
       "    </tr>\n",
       "    <tr>\n",
       "      <th>44847</th>\n",
       "      <td>weekend</td>\n",
       "      <td>no-holiday</td>\n",
       "      <td>3.590521</td>\n",
       "      <td>22.209406</td>\n",
       "      <td>2.736381</td>\n",
       "      <td>fulfilled</td>\n",
       "    </tr>\n",
       "    <tr>\n",
       "      <th>46712</th>\n",
       "      <td>weekend</td>\n",
       "      <td>no-holiday</td>\n",
       "      <td>26.751642</td>\n",
       "      <td>33.661626</td>\n",
       "      <td>3.094992</td>\n",
       "      <td>fulfilled</td>\n",
       "    </tr>\n",
       "    <tr>\n",
       "      <th>51071</th>\n",
       "      <td>weekday</td>\n",
       "      <td>no-holiday</td>\n",
       "      <td>18.333328</td>\n",
       "      <td>16.450643</td>\n",
       "      <td>1.842496</td>\n",
       "      <td>fulfilled</td>\n",
       "    </tr>\n",
       "    <tr>\n",
       "      <th>53812</th>\n",
       "      <td>weekday</td>\n",
       "      <td>no-holiday</td>\n",
       "      <td>8.112927</td>\n",
       "      <td>4.735939</td>\n",
       "      <td>2.297595</td>\n",
       "      <td>fulfilled</td>\n",
       "    </tr>\n",
       "  </tbody>\n",
       "</table>\n",
       "<p>26436 rows × 6 columns</p>\n",
       "</div>"
      ],
      "text/plain": [
       "      is_weekend  is_holiday   distance       speed  driver_distance  \\\n",
       "4        weekday  no-holiday  20.984319  348.126952         0.694264   \n",
       "5        weekday  no-holiday   8.127195   14.237422         1.959786   \n",
       "6        weekday  no-holiday   5.040921    4.929996         2.947683   \n",
       "7        weekday  no-holiday   5.609962    9.607927         1.197389   \n",
       "8        weekday  no-holiday  19.082399   25.854963         0.197853   \n",
       "...          ...         ...        ...         ...              ...   \n",
       "44825    weekday  no-holiday   2.582307    3.661404         1.633417   \n",
       "44847    weekend  no-holiday   3.590521   22.209406         2.736381   \n",
       "46712    weekend  no-holiday  26.751642   33.661626         3.094992   \n",
       "51071    weekday  no-holiday  18.333328   16.450643         1.842496   \n",
       "53812    weekday  no-holiday   8.112927    4.735939         2.297595   \n",
       "\n",
       "      is_fulfilled  \n",
       "4        fulfilled  \n",
       "5        fulfilled  \n",
       "6        fulfilled  \n",
       "7        fulfilled  \n",
       "8        fulfilled  \n",
       "...            ...  \n",
       "44825    fulfilled  \n",
       "44847    fulfilled  \n",
       "46712    fulfilled  \n",
       "51071    fulfilled  \n",
       "53812    fulfilled  \n",
       "\n",
       "[26436 rows x 6 columns]"
      ]
     },
     "execution_count": 87,
     "metadata": {},
     "output_type": "execute_result"
    }
   ],
   "source": [
    "df_c"
   ]
  },
  {
   "cell_type": "markdown",
   "metadata": {},
   "source": [
    "#### Discretising Numeric Features \n",
    "To make numeric features categorical, they must first be discretised."
   ]
  },
  {
   "cell_type": "code",
   "execution_count": 88,
   "metadata": {},
   "outputs": [],
   "source": [
    "from causalnex.discretiser import Discretiser"
   ]
  },
  {
   "cell_type": "code",
   "execution_count": 99,
   "metadata": {},
   "outputs": [],
   "source": [
    "discretised_data = df_c.copy()"
   ]
  },
  {
   "cell_type": "code",
   "execution_count": 100,
   "metadata": {},
   "outputs": [
    {
     "data": {
      "text/plain": [
       "1    26039\n",
       "0      390\n",
       "2        7\n",
       "Name: distance, dtype: int64"
      ]
     },
     "execution_count": 100,
     "metadata": {},
     "output_type": "execute_result"
    }
   ],
   "source": [
    "discretised_data[\"distance\"] = Discretiser(method=\"fixed\",\n",
    "        numeric_split_points=[1,100]).transform(discretised_data[\"distance\"].values)\n",
    "discretised_data[\"distance\"].value_counts()"
   ]
  },
  {
   "cell_type": "code",
   "execution_count": 101,
   "metadata": {},
   "outputs": [
    {
     "data": {
      "text/plain": [
       "1    17361\n",
       "0     9073\n",
       "2        2\n",
       "Name: driver_distance, dtype: int64"
      ]
     },
     "execution_count": 101,
     "metadata": {},
     "output_type": "execute_result"
    }
   ],
   "source": [
    "discretised_data[\"driver_distance\"] = Discretiser(method=\"fixed\",\n",
    "        numeric_split_points=[1,100]).transform(discretised_data[\"driver_distance\"].values)\n",
    "discretised_data[\"driver_distance\"].value_counts()"
   ]
  },
  {
   "cell_type": "code",
   "execution_count": 102,
   "metadata": {},
   "outputs": [
    {
     "data": {
      "text/plain": [
       "1    24515\n",
       "2     1681\n",
       "0      240\n",
       "Name: speed, dtype: int64"
      ]
     },
     "execution_count": 102,
     "metadata": {},
     "output_type": "execute_result"
    }
   ],
   "source": [
    "discretised_data[\"speed\"] = Discretiser(method=\"fixed\",\n",
    "        numeric_split_points=[1,100]).transform(discretised_data[\"speed\"].values)\n",
    "discretised_data[\"speed\"].value_counts()"
   ]
  },
  {
   "cell_type": "markdown",
   "metadata": {},
   "source": [
    "#### Create Labels for Numeric Features\n",
    "To make the discretised categories more readable, we can map the category labels onto something more meaningful in the same way that we mapped category feature values."
   ]
  },
  {
   "cell_type": "code",
   "execution_count": 105,
   "metadata": {},
   "outputs": [],
   "source": [
    "distance_map = {\n",
    "    0: \"short-distance\",\n",
    "    1: \"medium-distance\",\n",
    "    2: \"long-distance\"\n",
    "}\n",
    "speed_map = {\n",
    "    0: \"slow-speed\",\n",
    "    1: \"medium-speed\",\n",
    "    2: \"fast-speed\"\n",
    "}"
   ]
  },
  {
   "cell_type": "code",
   "execution_count": 106,
   "metadata": {},
   "outputs": [],
   "source": [
    "discretised_data[\"distance\"] = discretised_data[\"distance\"].map(distance_map)\n",
    "discretised_data[\"driver_distance\"] = discretised_data[\"driver_distance\"].map(distance_map)\n",
    "discretised_data[\"speed\"] = discretised_data[\"speed\"].map(speed_map)"
   ]
  },
  {
   "cell_type": "code",
   "execution_count": 107,
   "metadata": {},
   "outputs": [
    {
     "data": {
      "text/html": [
       "<div>\n",
       "<style scoped>\n",
       "    .dataframe tbody tr th:only-of-type {\n",
       "        vertical-align: middle;\n",
       "    }\n",
       "\n",
       "    .dataframe tbody tr th {\n",
       "        vertical-align: top;\n",
       "    }\n",
       "\n",
       "    .dataframe thead th {\n",
       "        text-align: right;\n",
       "    }\n",
       "</style>\n",
       "<table border=\"1\" class=\"dataframe\">\n",
       "  <thead>\n",
       "    <tr style=\"text-align: right;\">\n",
       "      <th></th>\n",
       "      <th>is_weekend</th>\n",
       "      <th>is_holiday</th>\n",
       "      <th>distance</th>\n",
       "      <th>speed</th>\n",
       "      <th>driver_distance</th>\n",
       "      <th>is_fulfilled</th>\n",
       "    </tr>\n",
       "  </thead>\n",
       "  <tbody>\n",
       "    <tr>\n",
       "      <th>4</th>\n",
       "      <td>weekday</td>\n",
       "      <td>no-holiday</td>\n",
       "      <td>medium-distance</td>\n",
       "      <td>fast-speed</td>\n",
       "      <td>short-distance</td>\n",
       "      <td>fulfilled</td>\n",
       "    </tr>\n",
       "    <tr>\n",
       "      <th>5</th>\n",
       "      <td>weekday</td>\n",
       "      <td>no-holiday</td>\n",
       "      <td>medium-distance</td>\n",
       "      <td>medium-speed</td>\n",
       "      <td>medium-distance</td>\n",
       "      <td>fulfilled</td>\n",
       "    </tr>\n",
       "    <tr>\n",
       "      <th>6</th>\n",
       "      <td>weekday</td>\n",
       "      <td>no-holiday</td>\n",
       "      <td>medium-distance</td>\n",
       "      <td>medium-speed</td>\n",
       "      <td>medium-distance</td>\n",
       "      <td>fulfilled</td>\n",
       "    </tr>\n",
       "    <tr>\n",
       "      <th>7</th>\n",
       "      <td>weekday</td>\n",
       "      <td>no-holiday</td>\n",
       "      <td>medium-distance</td>\n",
       "      <td>medium-speed</td>\n",
       "      <td>medium-distance</td>\n",
       "      <td>fulfilled</td>\n",
       "    </tr>\n",
       "    <tr>\n",
       "      <th>8</th>\n",
       "      <td>weekday</td>\n",
       "      <td>no-holiday</td>\n",
       "      <td>medium-distance</td>\n",
       "      <td>medium-speed</td>\n",
       "      <td>short-distance</td>\n",
       "      <td>fulfilled</td>\n",
       "    </tr>\n",
       "    <tr>\n",
       "      <th>...</th>\n",
       "      <td>...</td>\n",
       "      <td>...</td>\n",
       "      <td>...</td>\n",
       "      <td>...</td>\n",
       "      <td>...</td>\n",
       "      <td>...</td>\n",
       "    </tr>\n",
       "    <tr>\n",
       "      <th>44825</th>\n",
       "      <td>weekday</td>\n",
       "      <td>no-holiday</td>\n",
       "      <td>medium-distance</td>\n",
       "      <td>medium-speed</td>\n",
       "      <td>medium-distance</td>\n",
       "      <td>fulfilled</td>\n",
       "    </tr>\n",
       "    <tr>\n",
       "      <th>44847</th>\n",
       "      <td>weekend</td>\n",
       "      <td>no-holiday</td>\n",
       "      <td>medium-distance</td>\n",
       "      <td>medium-speed</td>\n",
       "      <td>medium-distance</td>\n",
       "      <td>fulfilled</td>\n",
       "    </tr>\n",
       "    <tr>\n",
       "      <th>46712</th>\n",
       "      <td>weekend</td>\n",
       "      <td>no-holiday</td>\n",
       "      <td>medium-distance</td>\n",
       "      <td>medium-speed</td>\n",
       "      <td>medium-distance</td>\n",
       "      <td>fulfilled</td>\n",
       "    </tr>\n",
       "    <tr>\n",
       "      <th>51071</th>\n",
       "      <td>weekday</td>\n",
       "      <td>no-holiday</td>\n",
       "      <td>medium-distance</td>\n",
       "      <td>medium-speed</td>\n",
       "      <td>medium-distance</td>\n",
       "      <td>fulfilled</td>\n",
       "    </tr>\n",
       "    <tr>\n",
       "      <th>53812</th>\n",
       "      <td>weekday</td>\n",
       "      <td>no-holiday</td>\n",
       "      <td>medium-distance</td>\n",
       "      <td>medium-speed</td>\n",
       "      <td>medium-distance</td>\n",
       "      <td>fulfilled</td>\n",
       "    </tr>\n",
       "  </tbody>\n",
       "</table>\n",
       "<p>26436 rows × 6 columns</p>\n",
       "</div>"
      ],
      "text/plain": [
       "      is_weekend  is_holiday         distance         speed  driver_distance  \\\n",
       "4        weekday  no-holiday  medium-distance    fast-speed   short-distance   \n",
       "5        weekday  no-holiday  medium-distance  medium-speed  medium-distance   \n",
       "6        weekday  no-holiday  medium-distance  medium-speed  medium-distance   \n",
       "7        weekday  no-holiday  medium-distance  medium-speed  medium-distance   \n",
       "8        weekday  no-holiday  medium-distance  medium-speed   short-distance   \n",
       "...          ...         ...              ...           ...              ...   \n",
       "44825    weekday  no-holiday  medium-distance  medium-speed  medium-distance   \n",
       "44847    weekend  no-holiday  medium-distance  medium-speed  medium-distance   \n",
       "46712    weekend  no-holiday  medium-distance  medium-speed  medium-distance   \n",
       "51071    weekday  no-holiday  medium-distance  medium-speed  medium-distance   \n",
       "53812    weekday  no-holiday  medium-distance  medium-speed  medium-distance   \n",
       "\n",
       "      is_fulfilled  \n",
       "4        fulfilled  \n",
       "5        fulfilled  \n",
       "6        fulfilled  \n",
       "7        fulfilled  \n",
       "8        fulfilled  \n",
       "...            ...  \n",
       "44825    fulfilled  \n",
       "44847    fulfilled  \n",
       "46712    fulfilled  \n",
       "51071    fulfilled  \n",
       "53812    fulfilled  \n",
       "\n",
       "[26436 rows x 6 columns]"
      ]
     },
     "execution_count": 107,
     "metadata": {},
     "output_type": "execute_result"
    }
   ],
   "source": [
    "discretised_data"
   ]
  },
  {
   "cell_type": "markdown",
   "metadata": {},
   "source": [
    "#### Train / Test Split\n",
    "Like many other machine learning models, we will use a train and test split to help us validate our findings."
   ]
  },
  {
   "cell_type": "code",
   "execution_count": 108,
   "metadata": {},
   "outputs": [],
   "source": [
    "from sklearn.model_selection import train_test_split\n",
    "\n",
    "train, test = train_test_split(discretised_data, train_size=0.9, test_size=0.1, random_state=7)"
   ]
  },
  {
   "cell_type": "markdown",
   "metadata": {},
   "source": [
    "#### Model Probability\n",
    "With the learnt structure model from earlier and the discretised data, we can now fit the probability distrbution of the Bayesian Network. The first step in this is specifying all of the states that each node can take. This can be done either from data, or providing a dictionary of node values. We use the full dataset here to avoid cases where states in our test set do not exist in the training set. For real-world applications, these states may need to be provided using the dictionary method."
   ]
  },
  {
   "cell_type": "code",
   "execution_count": 109,
   "metadata": {},
   "outputs": [],
   "source": [
    "bn = bn.fit_node_states(discretised_data)"
   ]
  },
  {
   "cell_type": "markdown",
   "metadata": {},
   "source": [
    "#### Fit Conditional Probability Distributions\n",
    "The fit_cpds method of BayesianNetwork accepts a dataset to learn the conditional probablilty distributions (CPDs) of each node, along with a method of how to do this fit."
   ]
  },
  {
   "cell_type": "code",
   "execution_count": 110,
   "metadata": {},
   "outputs": [],
   "source": [
    "bn = bn.fit_cpds(train, method=\"BayesianEstimator\", bayes_prior=\"K2\")"
   ]
  },
  {
   "cell_type": "code",
   "execution_count": 112,
   "metadata": {},
   "outputs": [
    {
     "data": {
      "text/html": [
       "<div>\n",
       "<style scoped>\n",
       "    .dataframe tbody tr th:only-of-type {\n",
       "        vertical-align: middle;\n",
       "    }\n",
       "\n",
       "    .dataframe tbody tr th {\n",
       "        vertical-align: top;\n",
       "    }\n",
       "\n",
       "    .dataframe thead tr th {\n",
       "        text-align: left;\n",
       "    }\n",
       "\n",
       "    .dataframe thead tr:last-of-type th {\n",
       "        text-align: right;\n",
       "    }\n",
       "</style>\n",
       "<table border=\"1\" class=\"dataframe\">\n",
       "  <thead>\n",
       "    <tr>\n",
       "      <th>distance</th>\n",
       "      <th colspan=\"10\" halign=\"left\">long-distance</th>\n",
       "      <th>...</th>\n",
       "      <th colspan=\"10\" halign=\"left\">short-distance</th>\n",
       "    </tr>\n",
       "    <tr>\n",
       "      <th>driver_distance</th>\n",
       "      <th colspan=\"6\" halign=\"left\">long-distance</th>\n",
       "      <th colspan=\"4\" halign=\"left\">medium-distance</th>\n",
       "      <th>...</th>\n",
       "      <th colspan=\"4\" halign=\"left\">medium-distance</th>\n",
       "      <th colspan=\"6\" halign=\"left\">short-distance</th>\n",
       "    </tr>\n",
       "    <tr>\n",
       "      <th>is_holiday</th>\n",
       "      <th colspan=\"6\" halign=\"left\">no-holiday</th>\n",
       "      <th colspan=\"4\" halign=\"left\">no-holiday</th>\n",
       "      <th>...</th>\n",
       "      <th colspan=\"4\" halign=\"left\">no-holiday</th>\n",
       "      <th colspan=\"6\" halign=\"left\">no-holiday</th>\n",
       "    </tr>\n",
       "    <tr>\n",
       "      <th>is_weekend</th>\n",
       "      <th colspan=\"3\" halign=\"left\">weekday</th>\n",
       "      <th colspan=\"3\" halign=\"left\">weekend</th>\n",
       "      <th colspan=\"3\" halign=\"left\">weekday</th>\n",
       "      <th>weekend</th>\n",
       "      <th>...</th>\n",
       "      <th>weekday</th>\n",
       "      <th colspan=\"3\" halign=\"left\">weekend</th>\n",
       "      <th colspan=\"3\" halign=\"left\">weekday</th>\n",
       "      <th colspan=\"3\" halign=\"left\">weekend</th>\n",
       "    </tr>\n",
       "    <tr>\n",
       "      <th>speed</th>\n",
       "      <th>fast-speed</th>\n",
       "      <th>medium-speed</th>\n",
       "      <th>slow-speed</th>\n",
       "      <th>fast-speed</th>\n",
       "      <th>medium-speed</th>\n",
       "      <th>slow-speed</th>\n",
       "      <th>fast-speed</th>\n",
       "      <th>medium-speed</th>\n",
       "      <th>slow-speed</th>\n",
       "      <th>fast-speed</th>\n",
       "      <th>...</th>\n",
       "      <th>slow-speed</th>\n",
       "      <th>fast-speed</th>\n",
       "      <th>medium-speed</th>\n",
       "      <th>slow-speed</th>\n",
       "      <th>fast-speed</th>\n",
       "      <th>medium-speed</th>\n",
       "      <th>slow-speed</th>\n",
       "      <th>fast-speed</th>\n",
       "      <th>medium-speed</th>\n",
       "      <th>slow-speed</th>\n",
       "    </tr>\n",
       "    <tr>\n",
       "      <th>is_fulfilled</th>\n",
       "      <th></th>\n",
       "      <th></th>\n",
       "      <th></th>\n",
       "      <th></th>\n",
       "      <th></th>\n",
       "      <th></th>\n",
       "      <th></th>\n",
       "      <th></th>\n",
       "      <th></th>\n",
       "      <th></th>\n",
       "      <th></th>\n",
       "      <th></th>\n",
       "      <th></th>\n",
       "      <th></th>\n",
       "      <th></th>\n",
       "      <th></th>\n",
       "      <th></th>\n",
       "      <th></th>\n",
       "      <th></th>\n",
       "      <th></th>\n",
       "      <th></th>\n",
       "    </tr>\n",
       "  </thead>\n",
       "  <tbody>\n",
       "    <tr>\n",
       "      <th>fulfilled</th>\n",
       "      <td>0.75</td>\n",
       "      <td>0.5</td>\n",
       "      <td>0.5</td>\n",
       "      <td>0.5</td>\n",
       "      <td>0.5</td>\n",
       "      <td>0.5</td>\n",
       "      <td>0.833333</td>\n",
       "      <td>0.5</td>\n",
       "      <td>0.5</td>\n",
       "      <td>0.5</td>\n",
       "      <td>...</td>\n",
       "      <td>0.96</td>\n",
       "      <td>0.5</td>\n",
       "      <td>0.952381</td>\n",
       "      <td>0.857143</td>\n",
       "      <td>0.666667</td>\n",
       "      <td>0.930435</td>\n",
       "      <td>0.75</td>\n",
       "      <td>0.5</td>\n",
       "      <td>0.857143</td>\n",
       "      <td>0.833333</td>\n",
       "    </tr>\n",
       "    <tr>\n",
       "      <th>unfulfilled</th>\n",
       "      <td>0.25</td>\n",
       "      <td>0.5</td>\n",
       "      <td>0.5</td>\n",
       "      <td>0.5</td>\n",
       "      <td>0.5</td>\n",
       "      <td>0.5</td>\n",
       "      <td>0.166667</td>\n",
       "      <td>0.5</td>\n",
       "      <td>0.5</td>\n",
       "      <td>0.5</td>\n",
       "      <td>...</td>\n",
       "      <td>0.04</td>\n",
       "      <td>0.5</td>\n",
       "      <td>0.047619</td>\n",
       "      <td>0.142857</td>\n",
       "      <td>0.333333</td>\n",
       "      <td>0.069565</td>\n",
       "      <td>0.25</td>\n",
       "      <td>0.5</td>\n",
       "      <td>0.142857</td>\n",
       "      <td>0.166667</td>\n",
       "    </tr>\n",
       "  </tbody>\n",
       "</table>\n",
       "<p>2 rows × 54 columns</p>\n",
       "</div>"
      ],
      "text/plain": [
       "distance        long-distance                                                  \\\n",
       "driver_distance long-distance                                                   \n",
       "is_holiday         no-holiday                                                   \n",
       "is_weekend            weekday                            weekend                \n",
       "speed              fast-speed medium-speed slow-speed fast-speed medium-speed   \n",
       "is_fulfilled                                                                    \n",
       "fulfilled                0.75          0.5        0.5        0.5          0.5   \n",
       "unfulfilled              0.25          0.5        0.5        0.5          0.5   \n",
       "\n",
       "distance                                                                       \\\n",
       "driver_distance            medium-distance                                      \n",
       "is_holiday                      no-holiday                                      \n",
       "is_weekend                         weekday                            weekend   \n",
       "speed           slow-speed      fast-speed medium-speed slow-speed fast-speed   \n",
       "is_fulfilled                                                                    \n",
       "fulfilled              0.5        0.833333          0.5        0.5        0.5   \n",
       "unfulfilled            0.5        0.166667          0.5        0.5        0.5   \n",
       "\n",
       "distance         ...  short-distance                                     \\\n",
       "driver_distance  ... medium-distance                                      \n",
       "is_holiday       ...      no-holiday                                      \n",
       "is_weekend       ...         weekday    weekend                           \n",
       "speed            ...      slow-speed fast-speed medium-speed slow-speed   \n",
       "is_fulfilled     ...                                                      \n",
       "fulfilled        ...            0.96        0.5     0.952381   0.857143   \n",
       "unfulfilled      ...            0.04        0.5     0.047619   0.142857   \n",
       "\n",
       "distance                                                           \\\n",
       "driver_distance short-distance                                      \n",
       "is_holiday          no-holiday                                      \n",
       "is_weekend             weekday                            weekend   \n",
       "speed               fast-speed medium-speed slow-speed fast-speed   \n",
       "is_fulfilled                                                        \n",
       "fulfilled             0.666667     0.930435       0.75        0.5   \n",
       "unfulfilled           0.333333     0.069565       0.25        0.5   \n",
       "\n",
       "distance                                 \n",
       "driver_distance                          \n",
       "is_holiday                               \n",
       "is_weekend                               \n",
       "speed           medium-speed slow-speed  \n",
       "is_fulfilled                             \n",
       "fulfilled           0.857143   0.833333  \n",
       "unfulfilled         0.142857   0.166667  \n",
       "\n",
       "[2 rows x 54 columns]"
      ]
     },
     "execution_count": 112,
     "metadata": {},
     "output_type": "execute_result"
    }
   ],
   "source": [
    "bn.cpds[\"is_fulfilled\"]"
   ]
  },
  {
   "cell_type": "markdown",
   "metadata": {},
   "source": [
    "#### Predict the State given the Input Data\n",
    "The predict method of BayesianNetwork allows us to make predictions based on the data using the learnt Bayesian Network. For example, we want to predict if a trip is fulfilled or not based on the input data. Imagine we have a trip data that looks like this:"
   ]
  },
  {
   "cell_type": "code",
   "execution_count": 113,
   "metadata": {},
   "outputs": [
    {
     "data": {
      "text/plain": [
       "is_weekend                 weekday\n",
       "is_holiday              no-holiday\n",
       "distance           medium-distance\n",
       "speed                 medium-speed\n",
       "driver_distance    medium-distance\n",
       "Name: 57, dtype: object"
      ]
     },
     "execution_count": 113,
     "metadata": {},
     "output_type": "execute_result"
    }
   ],
   "source": [
    "discretised_data.loc[57, discretised_data.columns != 'is_fulfilled']"
   ]
  },
  {
   "cell_type": "code",
   "execution_count": 114,
   "metadata": {},
   "outputs": [],
   "source": [
    "predictions = bn.predict(discretised_data, \"is_fulfilled\")"
   ]
  },
  {
   "cell_type": "code",
   "execution_count": 115,
   "metadata": {},
   "outputs": [
    {
     "name": "stdout",
     "output_type": "stream",
     "text": [
      "The prediction is 'fulfilled'\n"
     ]
    }
   ],
   "source": [
    "print(f\"The prediction is '{predictions.loc[57, 'is_fulfilled_prediction']}'\")"
   ]
  },
  {
   "cell_type": "markdown",
   "metadata": {},
   "source": [
    "The prediction by the Bayesian Network turns out to be a 'fulfilled'. Let’s compare this to the ground truth:"
   ]
  },
  {
   "cell_type": "code",
   "execution_count": 116,
   "metadata": {},
   "outputs": [
    {
     "name": "stdout",
     "output_type": "stream",
     "text": [
      "The ground truth is 'fulfilled'\n"
     ]
    }
   ],
   "source": [
    "print(f\"The ground truth is '{discretised_data.loc[57, 'is_fulfilled']}'\")"
   ]
  },
  {
   "cell_type": "markdown",
   "metadata": {},
   "source": [
    "### Model Quality"
   ]
  },
  {
   "cell_type": "markdown",
   "metadata": {},
   "source": [
    "#### Classification Report\n",
    "To obtain a classification report using a BN, we need to provide a test set, and the node we are trying to classify. The report will predict the target node for all rows in the test set, and evaluate how well those predictions are made.\n",
    "\n"
   ]
  },
  {
   "cell_type": "code",
   "execution_count": 117,
   "metadata": {},
   "outputs": [
    {
     "data": {
      "text/plain": [
       "{'is_fulfilled_fulfilled': {'precision': 0.9735249621785174,\n",
       "  'recall': 1.0,\n",
       "  'f1-score': 0.9865848984285166,\n",
       "  'support': 2574},\n",
       " 'is_fulfilled_unfulfilled': {'precision': 0.0,\n",
       "  'recall': 0.0,\n",
       "  'f1-score': 0.0,\n",
       "  'support': 70},\n",
       " 'accuracy': 0.9735249621785174,\n",
       " 'macro avg': {'precision': 0.4867624810892587,\n",
       "  'recall': 0.5,\n",
       "  'f1-score': 0.4932924492142583,\n",
       "  'support': 2644},\n",
       " 'weighted avg': {'precision': 0.9477508519846837,\n",
       "  'recall': 0.9735249621785174,\n",
       "  'f1-score': 0.9604650259285181,\n",
       "  'support': 2644}}"
      ]
     },
     "execution_count": 117,
     "metadata": {},
     "output_type": "execute_result"
    }
   ],
   "source": [
    "from causalnex.evaluation import classification_report\n",
    "\n",
    "classification_report(bn, test, \"is_fulfilled\")"
   ]
  },
  {
   "cell_type": "markdown",
   "metadata": {},
   "source": [
    "For the predictions where the a trip is `fulfilled`, the `precision`, `recall`, `f1-score`, and `support` are really good, \n",
    "but For the predictions where the a trip is `unfulfilled`, the model we have defined has 0 in `precision`, `recall`, and `f1-score`, may be this because of the fact that the number of unfulfilled orders are really small comapred to the fulfilled ones."
   ]
  },
  {
   "cell_type": "markdown",
   "metadata": {},
   "source": [
    "#### ROC / AUC\n",
    "Receiver Operating Characteristics (ROC), and the Area Under the ROC Curve (AUC) can be obtained using the roc_auc method within the CausalNex metrics module. Again, a test set and target node must be provided. The ROC curve is computed by micro-averaging predictions made across all states (classes) of the target node."
   ]
  },
  {
   "cell_type": "code",
   "execution_count": 120,
   "metadata": {},
   "outputs": [
    {
     "name": "stdout",
     "output_type": "stream",
     "text": [
      "0.9923063894845979\n"
     ]
    }
   ],
   "source": [
    "from causalnex.evaluation import roc_auc\n",
    "roc, auc = roc_auc(bn, test, \"is_fulfilled\")\n",
    "print(auc)\n",
    "#The AUC value for our model is high, giving us confidence in the performance."
   ]
  },
  {
   "cell_type": "markdown",
   "metadata": {},
   "source": [
    "### Querying Marginals\n",
    "After iterating over our model structure, CPDs, and validating our model quality, we can query our model under different observations to gain insights."
   ]
  },
  {
   "cell_type": "markdown",
   "metadata": {},
   "source": [
    "#### Baseline Marginals\n",
    "To query the model for baseline marginals that reflect the population as a whole, a query method can be used. First let’s update our model using the complete dataset, since the one we currently have was only built from training data."
   ]
  },
  {
   "cell_type": "code",
   "execution_count": 121,
   "metadata": {},
   "outputs": [],
   "source": [
    "bn = bn.fit_cpds(discretised_data, method=\"BayesianEstimator\", bayes_prior=\"K2\")"
   ]
  },
  {
   "cell_type": "markdown",
   "metadata": {},
   "source": [
    "For inference, we must create a new InferenceEngine from our BayesianNetwork, which lets us query the model. The query method will compute the marginal likelihood of all states for all nodes."
   ]
  },
  {
   "cell_type": "code",
   "execution_count": 122,
   "metadata": {},
   "outputs": [
    {
     "data": {
      "text/plain": [
       "{'fulfilled': 0.9756713018850699, 'unfulfilled': 0.02432869811492986}"
      ]
     },
     "execution_count": 122,
     "metadata": {},
     "output_type": "execute_result"
    }
   ],
   "source": [
    "from causalnex.inference import InferenceEngine\n",
    "\n",
    "ie = InferenceEngine(bn)\n",
    "marginals = ie.query()\n",
    "marginals[\"is_fulfilled\"]"
   ]
  },
  {
   "cell_type": "markdown",
   "metadata": {},
   "source": [
    "The output observed tells us that `P(is_fulfilled=fulfilled) = 0.97`, and the `P(is_fulfilled=unfulfilled) = 0.02`. As a quick sanity check, we can compute what proportion of our dataset are `unfulfilled`, which should be approximately the same."
   ]
  },
  {
   "cell_type": "code",
   "execution_count": 123,
   "metadata": {},
   "outputs": [
    {
     "data": {
      "text/plain": [
       "[('fulfilled', 25827), ('unfulfilled', 609)]"
      ]
     },
     "execution_count": 123,
     "metadata": {},
     "output_type": "execute_result"
    }
   ],
   "source": [
    "import numpy as np\n",
    "\n",
    "labels, counts = np.unique(discretised_data[\"is_fulfilled\"], return_counts=True)\n",
    "list(zip(labels, counts))"
   ]
  },
  {
   "cell_type": "code",
   "execution_count": 124,
   "metadata": {},
   "outputs": [
    {
     "data": {
      "text/plain": [
       "0.02303676804357694"
      ]
     },
     "execution_count": 124,
     "metadata": {},
     "output_type": "execute_result"
    }
   ],
   "source": [
    "unfulfilled_proportion = 609/(25827+609)\n",
    "unfulfilled_proportion"
   ]
  },
  {
   "cell_type": "markdown",
   "metadata": {},
   "source": [
    "The proportion of the `unfulfilled trips is 0.023`- which is close to our computed marginal likelihood."
   ]
  },
  {
   "cell_type": "markdown",
   "metadata": {},
   "source": [
    "### Marginals after Observations\n",
    "We can also query the marginal likelihood of states in our network given some observations. These observations can be made anywhere in the network, and their impact will be propagated through to the node of interest."
   ]
  },
  {
   "cell_type": "markdown",
   "metadata": {},
   "source": [
    "#### Likelihood of `is_fulfilled` based on `distance`"
   ]
  },
  {
   "cell_type": "code",
   "execution_count": 125,
   "metadata": {},
   "outputs": [
    {
     "data": {
      "text/plain": [
       "{0: 'short-distance', 1: 'medium-distance', 2: 'long-distance'}"
      ]
     },
     "execution_count": 125,
     "metadata": {},
     "output_type": "execute_result"
    }
   ],
   "source": [
    "distance_map"
   ]
  },
  {
   "cell_type": "code",
   "execution_count": 126,
   "metadata": {},
   "outputs": [
    {
     "name": "stdout",
     "output_type": "stream",
     "text": [
      "Marginal is_fulfilled | Short Distance {'fulfilled': 0.9351709806996253, 'unfulfilled': 0.06482901930037457}\n",
      "Marginal is_fulfilled | Medium Distance {'fulfilled': 0.9764371976901707, 'unfulfilled': 0.023562802309829333}\n",
      "Marginal is_fulfilled | Long Distance {'fulfilled': 0.5160477162995615, 'unfulfilled': 0.48395228370043847}\n"
     ]
    }
   ],
   "source": [
    "marginals_short = ie.query({\"distance\": \"short-distance\"})\n",
    "marginals_medium = ie.query({\"distance\": \"medium-distance\"})\n",
    "marginals_long = ie.query({\"distance\": \"long-distance\"})\n",
    "print(\"Marginal is_fulfilled | Short Distance\", marginals_short[\"is_fulfilled\"])\n",
    "print(\"Marginal is_fulfilled | Medium Distance\", marginals_medium[\"is_fulfilled\"])\n",
    "print(\"Marginal is_fulfilled | Long Distance\", marginals_long[\"is_fulfilled\"])"
   ]
  },
  {
   "cell_type": "markdown",
   "metadata": {},
   "source": [
    "#### Likelihood of `is_fulfilled` based on `driver_distance`"
   ]
  },
  {
   "cell_type": "code",
   "execution_count": 129,
   "metadata": {},
   "outputs": [
    {
     "name": "stdout",
     "output_type": "stream",
     "text": [
      "Marginal is_fulfilled | Short Driver Distance {'fulfilled': 0.9313264248404043, 'unfulfilled': 0.06867357515959566}\n",
      "Marginal is_fulfilled | Medium Driver Distance {'fulfilled': 0.998928295271488, 'unfulfilled': 0.0010717047285120375}\n",
      "Marginal is_fulfilled | Long Driver Distance {'fulfilled': 0.508169677988868, 'unfulfilled': 0.491830322011132}\n"
     ]
    }
   ],
   "source": [
    "marginals_short = ie.query({\"driver_distance\": \"short-distance\"})\n",
    "marginals_medium = ie.query({\"driver_distance\": \"medium-distance\"})\n",
    "marginals_long = ie.query({\"driver_distance\": \"long-distance\"})\n",
    "print(\"Marginal is_fulfilled | Short Driver Distance\", marginals_short[\"is_fulfilled\"])\n",
    "print(\"Marginal is_fulfilled | Medium Driver Distance\", marginals_medium[\"is_fulfilled\"])\n",
    "print(\"Marginal is_fulfilled | Long Driver Distance\", marginals_long[\"is_fulfilled\"])"
   ]
  },
  {
   "cell_type": "markdown",
   "metadata": {},
   "source": [
    "#### Likelihood of `is_fulfilled` based on `speed`"
   ]
  },
  {
   "cell_type": "code",
   "execution_count": 128,
   "metadata": {},
   "outputs": [
    {
     "data": {
      "text/plain": [
       "{0: 'slow-speed', 1: 'medium-speed', 2: 'fast-speed'}"
      ]
     },
     "execution_count": 128,
     "metadata": {},
     "output_type": "execute_result"
    }
   ],
   "source": [
    "speed_map"
   ]
  },
  {
   "cell_type": "code",
   "execution_count": 130,
   "metadata": {},
   "outputs": [
    {
     "name": "stdout",
     "output_type": "stream",
     "text": [
      "Marginal is_fulfilled | Slow Speed {'fulfilled': 0.931565132435903, 'unfulfilled': 0.06843486756409696}\n",
      "Marginal is_fulfilled | Medium Speed {'fulfilled': 0.9757920185405659, 'unfulfilled': 0.02420798145943412}\n",
      "Marginal is_fulfilled | fast-speed {'fulfilled': 0.9802314073019048, 'unfulfilled': 0.01976859269809524}\n"
     ]
    }
   ],
   "source": [
    "marginals_short = ie.query({\"speed\": \"slow-speed\"})\n",
    "marginals_medium = ie.query({\"speed\": \"medium-speed\"})\n",
    "marginals_long = ie.query({\"speed\": \"fast-speed\"})\n",
    "print(\"Marginal is_fulfilled | Slow Speed\", marginals_short[\"is_fulfilled\"])\n",
    "print(\"Marginal is_fulfilled | Medium Speed\", marginals_medium[\"is_fulfilled\"])\n",
    "print(\"Marginal is_fulfilled | fast-speed\", marginals_long[\"is_fulfilled\"])"
   ]
  },
  {
   "cell_type": "markdown",
   "metadata": {},
   "source": [
    "## Do Calculus"
   ]
  },
  {
   "cell_type": "code",
   "execution_count": null,
   "metadata": {},
   "outputs": [],
   "source": []
  },
  {
   "cell_type": "code",
   "execution_count": null,
   "metadata": {},
   "outputs": [],
   "source": []
  },
  {
   "cell_type": "code",
   "execution_count": null,
   "metadata": {},
   "outputs": [],
   "source": []
  },
  {
   "cell_type": "code",
   "execution_count": null,
   "metadata": {},
   "outputs": [],
   "source": []
  },
  {
   "cell_type": "code",
   "execution_count": null,
   "metadata": {},
   "outputs": [],
   "source": []
  },
  {
   "cell_type": "code",
   "execution_count": 59,
   "metadata": {},
   "outputs": [
    {
     "data": {
      "text/html": [
       "<div>\n",
       "<style scoped>\n",
       "    .dataframe tbody tr th:only-of-type {\n",
       "        vertical-align: middle;\n",
       "    }\n",
       "\n",
       "    .dataframe tbody tr th {\n",
       "        vertical-align: top;\n",
       "    }\n",
       "\n",
       "    .dataframe thead th {\n",
       "        text-align: right;\n",
       "    }\n",
       "</style>\n",
       "<table border=\"1\" class=\"dataframe\">\n",
       "  <thead>\n",
       "    <tr style=\"text-align: right;\">\n",
       "      <th></th>\n",
       "      <th>is_weekend</th>\n",
       "      <th>is_holiday</th>\n",
       "      <th>distance</th>\n",
       "      <th>speed</th>\n",
       "      <th>driver_distance</th>\n",
       "      <th>is_fulfilled</th>\n",
       "    </tr>\n",
       "  </thead>\n",
       "  <tbody>\n",
       "    <tr>\n",
       "      <th>620</th>\n",
       "      <td>0.0</td>\n",
       "      <td>0.0</td>\n",
       "      <td>0.011176</td>\n",
       "      <td>0.000314</td>\n",
       "      <td>0.0</td>\n",
       "      <td>unfulfilled</td>\n",
       "    </tr>\n",
       "    <tr>\n",
       "      <th>648</th>\n",
       "      <td>0.0</td>\n",
       "      <td>0.0</td>\n",
       "      <td>0.008491</td>\n",
       "      <td>0.000725</td>\n",
       "      <td>0.0</td>\n",
       "      <td>unfulfilled</td>\n",
       "    </tr>\n",
       "    <tr>\n",
       "      <th>717</th>\n",
       "      <td>0.0</td>\n",
       "      <td>0.0</td>\n",
       "      <td>0.034200</td>\n",
       "      <td>0.001199</td>\n",
       "      <td>0.0</td>\n",
       "      <td>unfulfilled</td>\n",
       "    </tr>\n",
       "    <tr>\n",
       "      <th>976</th>\n",
       "      <td>0.0</td>\n",
       "      <td>0.0</td>\n",
       "      <td>0.003633</td>\n",
       "      <td>0.000202</td>\n",
       "      <td>0.0</td>\n",
       "      <td>unfulfilled</td>\n",
       "    </tr>\n",
       "    <tr>\n",
       "      <th>1014</th>\n",
       "      <td>0.0</td>\n",
       "      <td>0.0</td>\n",
       "      <td>0.002328</td>\n",
       "      <td>0.000103</td>\n",
       "      <td>0.0</td>\n",
       "      <td>unfulfilled</td>\n",
       "    </tr>\n",
       "    <tr>\n",
       "      <th>...</th>\n",
       "      <td>...</td>\n",
       "      <td>...</td>\n",
       "      <td>...</td>\n",
       "      <td>...</td>\n",
       "      <td>...</td>\n",
       "      <td>...</td>\n",
       "    </tr>\n",
       "    <tr>\n",
       "      <th>26217</th>\n",
       "      <td>0.0</td>\n",
       "      <td>0.0</td>\n",
       "      <td>0.004860</td>\n",
       "      <td>0.000350</td>\n",
       "      <td>0.0</td>\n",
       "      <td>unfulfilled</td>\n",
       "    </tr>\n",
       "    <tr>\n",
       "      <th>26241</th>\n",
       "      <td>0.0</td>\n",
       "      <td>0.0</td>\n",
       "      <td>0.003338</td>\n",
       "      <td>0.000170</td>\n",
       "      <td>0.0</td>\n",
       "      <td>unfulfilled</td>\n",
       "    </tr>\n",
       "    <tr>\n",
       "      <th>26255</th>\n",
       "      <td>0.0</td>\n",
       "      <td>0.0</td>\n",
       "      <td>0.006002</td>\n",
       "      <td>0.007681</td>\n",
       "      <td>0.0</td>\n",
       "      <td>unfulfilled</td>\n",
       "    </tr>\n",
       "    <tr>\n",
       "      <th>26330</th>\n",
       "      <td>0.0</td>\n",
       "      <td>0.0</td>\n",
       "      <td>0.009839</td>\n",
       "      <td>0.000275</td>\n",
       "      <td>0.0</td>\n",
       "      <td>unfulfilled</td>\n",
       "    </tr>\n",
       "    <tr>\n",
       "      <th>26370</th>\n",
       "      <td>0.0</td>\n",
       "      <td>0.0</td>\n",
       "      <td>0.014681</td>\n",
       "      <td>0.000568</td>\n",
       "      <td>0.0</td>\n",
       "      <td>unfulfilled</td>\n",
       "    </tr>\n",
       "  </tbody>\n",
       "</table>\n",
       "<p>609 rows × 6 columns</p>\n",
       "</div>"
      ],
      "text/plain": [
       "       is_weekend  is_holiday  distance     speed  driver_distance  \\\n",
       "620           0.0         0.0  0.011176  0.000314              0.0   \n",
       "648           0.0         0.0  0.008491  0.000725              0.0   \n",
       "717           0.0         0.0  0.034200  0.001199              0.0   \n",
       "976           0.0         0.0  0.003633  0.000202              0.0   \n",
       "1014          0.0         0.0  0.002328  0.000103              0.0   \n",
       "...           ...         ...       ...       ...              ...   \n",
       "26217         0.0         0.0  0.004860  0.000350              0.0   \n",
       "26241         0.0         0.0  0.003338  0.000170              0.0   \n",
       "26255         0.0         0.0  0.006002  0.007681              0.0   \n",
       "26330         0.0         0.0  0.009839  0.000275              0.0   \n",
       "26370         0.0         0.0  0.014681  0.000568              0.0   \n",
       "\n",
       "      is_fulfilled  \n",
       "620    unfulfilled  \n",
       "648    unfulfilled  \n",
       "717    unfulfilled  \n",
       "976    unfulfilled  \n",
       "1014   unfulfilled  \n",
       "...            ...  \n",
       "26217  unfulfilled  \n",
       "26241  unfulfilled  \n",
       "26255  unfulfilled  \n",
       "26330  unfulfilled  \n",
       "26370  unfulfilled  \n",
       "\n",
       "[609 rows x 6 columns]"
      ]
     },
     "execution_count": 59,
     "metadata": {},
     "output_type": "execute_result"
    }
   ],
   "source": [
    "df_c[df_c['is_fulfilled']=='unfulfilled']"
   ]
  },
  {
   "cell_type": "code",
   "execution_count": 37,
   "metadata": {},
   "outputs": [
    {
     "data": {
      "text/html": [
       "<div>\n",
       "<style scoped>\n",
       "    .dataframe tbody tr th:only-of-type {\n",
       "        vertical-align: middle;\n",
       "    }\n",
       "\n",
       "    .dataframe tbody tr th {\n",
       "        vertical-align: top;\n",
       "    }\n",
       "\n",
       "    .dataframe thead th {\n",
       "        text-align: right;\n",
       "    }\n",
       "</style>\n",
       "<table border=\"1\" class=\"dataframe\">\n",
       "  <thead>\n",
       "    <tr style=\"text-align: right;\">\n",
       "      <th></th>\n",
       "      <th>Unnamed: 0</th>\n",
       "      <th>Trip ID</th>\n",
       "      <th>Trip Origin</th>\n",
       "      <th>Trip Destination</th>\n",
       "      <th>Trip Start Time</th>\n",
       "      <th>Trip End Time</th>\n",
       "      <th>is_weekend</th>\n",
       "      <th>is_holiday</th>\n",
       "      <th>distance</th>\n",
       "      <th>speed</th>\n",
       "      <th>driver_distance</th>\n",
       "      <th>driver_lat</th>\n",
       "      <th>driver_lng</th>\n",
       "    </tr>\n",
       "  </thead>\n",
       "  <tbody>\n",
       "  </tbody>\n",
       "</table>\n",
       "</div>"
      ],
      "text/plain": [
       "Empty DataFrame\n",
       "Columns: [Unnamed: 0, Trip ID, Trip Origin, Trip Destination, Trip Start Time, Trip End Time, is_weekend, is_holiday, distance, speed, driver_distance, driver_lat, driver_lng]\n",
       "Index: []"
      ]
     },
     "execution_count": 37,
     "metadata": {},
     "output_type": "execute_result"
    }
   ],
   "source": [
    "preprocessed_trip_df[preprocessed_trip_df['driver_lng']!=0.0]"
   ]
  },
  {
   "cell_type": "code",
   "execution_count": null,
   "metadata": {},
   "outputs": [],
   "source": []
  }
 ],
 "metadata": {
  "kernelspec": {
   "display_name": "Python 3.8.13 ('env_causal')",
   "language": "python",
   "name": "python3"
  },
  "language_info": {
   "codemirror_mode": {
    "name": "ipython",
    "version": 3
   },
   "file_extension": ".py",
   "mimetype": "text/x-python",
   "name": "python",
   "nbconvert_exporter": "python",
   "pygments_lexer": "ipython3",
   "version": "3.8.13"
  },
  "orig_nbformat": 4,
  "vscode": {
   "interpreter": {
    "hash": "fb9244082fb8597280526a46cd6bff838b19e59c9aa6fff5f72e93e9af2900f5"
   }
  }
 },
 "nbformat": 4,
 "nbformat_minor": 2
}
