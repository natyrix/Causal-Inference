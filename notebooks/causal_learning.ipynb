{
 "cells": [
  {
   "cell_type": "markdown",
   "metadata": {},
   "source": [
    "#### Import Modules"
   ]
  },
  {
   "cell_type": "code",
   "execution_count": 1,
   "metadata": {},
   "outputs": [
    {
     "name": "stderr",
     "output_type": "stream",
     "text": [
      "/home/n/anaconda3/envs/env_causal/lib/python3.8/site-packages/tqdm/auto.py:22: TqdmWarning: IProgress not found. Please update jupyter and ipywidgets. See https://ipywidgets.readthedocs.io/en/stable/user_install.html\n",
      "  from .autonotebook import tqdm as notebook_tqdm\n"
     ]
    }
   ],
   "source": [
    "import warnings\n",
    "import pandas as pd\n",
    "import sys, os\n",
    "\n",
    "\n",
    "from causalnex.structure import StructureModel\n",
    "\n",
    "sys.path.append(os.path.abspath(os.path.join('../scripts')))\n",
    "from eda_pipeline import EDAPipeline\n",
    "from causal_learning_helper import CausalHelper\n",
    "warnings.filterwarnings(\"ignore\")"
   ]
  },
  {
   "cell_type": "code",
   "execution_count": 2,
   "metadata": {},
   "outputs": [
    {
     "name": "stdout",
     "output_type": "stream",
     "text": [
      "<class 'pandas.core.frame.DataFrame'>\n",
      "RangeIndex: 534369 entries, 0 to 534368\n",
      "Data columns (total 10 columns):\n",
      " #   Column            Non-Null Count   Dtype  \n",
      "---  ------            --------------   -----  \n",
      " 0   Unnamed: 0        534369 non-null  int64  \n",
      " 1   Trip ID           534369 non-null  int64  \n",
      " 2   Trip Origin       534369 non-null  object \n",
      " 3   Trip Destination  534369 non-null  object \n",
      " 4   Trip Start Time   534369 non-null  object \n",
      " 5   Trip End Time     534368 non-null  object \n",
      " 6   is_weekend        534369 non-null  int64  \n",
      " 7   is_holiday        534369 non-null  int64  \n",
      " 8   distance          534369 non-null  float64\n",
      " 9   speed             534369 non-null  float64\n",
      "dtypes: float64(2), int64(4), object(4)\n",
      "memory usage: 40.8+ MB\n"
     ]
    }
   ],
   "source": [
    "eda_pipeline = EDAPipeline()\n",
    "preprocessed_trip_df = eda_pipeline.read_data(path=\"../data/preprocessed_trip.csv\", version=\"v1_preprocessed\")\n",
    "preprocessed_trip_df.info()"
   ]
  },
  {
   "cell_type": "code",
   "execution_count": 3,
   "metadata": {},
   "outputs": [
    {
     "name": "stdout",
     "output_type": "stream",
     "text": [
      "<class 'pandas.core.frame.DataFrame'>\n",
      "RangeIndex: 1557740 entries, 0 to 1557739\n",
      "Data columns (total 8 columns):\n",
      " #   Column         Non-Null Count    Dtype  \n",
      "---  ------         --------------    -----  \n",
      " 0   id             1557740 non-null  int64  \n",
      " 1   order_id       1557740 non-null  int64  \n",
      " 2   driver_id      1557740 non-null  int64  \n",
      " 3   driver_action  1557740 non-null  object \n",
      " 4   lat            1557740 non-null  float64\n",
      " 5   lng            1557740 non-null  float64\n",
      " 6   created_at     0 non-null        float64\n",
      " 7   updated_at     0 non-null        float64\n",
      "dtypes: float64(4), int64(3), object(1)\n",
      "memory usage: 95.1+ MB\n"
     ]
    }
   ],
   "source": [
    "df_driver = eda_pipeline.read_data(path=\"../data/driver_locations_during_request.csv\", version=\"v1_driver\")\n",
    "df_driver.info()"
   ]
  },
  {
   "cell_type": "markdown",
   "metadata": {},
   "source": [
    "#### Merge the two datasets"
   ]
  },
  {
   "cell_type": "code",
   "execution_count": 4,
   "metadata": {},
   "outputs": [],
   "source": [
    "preprocessed_trip_df['driver_distance'] = preprocessed_trip_df['distance'].apply(lambda x: -1)\n",
    "preprocessed_trip_df['driver_lat'] = preprocessed_trip_df['distance'].apply(lambda x: 0.0)\n",
    "preprocessed_trip_df['driver_lng'] = preprocessed_trip_df['distance'].apply(lambda x: 0.0)\n"
   ]
  },
  {
   "cell_type": "code",
   "execution_count": 5,
   "metadata": {},
   "outputs": [],
   "source": [
    "causalhelper = CausalHelper()"
   ]
  },
  {
   "cell_type": "code",
   "execution_count": 6,
   "metadata": {},
   "outputs": [],
   "source": [
    "def combine_get_driver_locations(df_trip, df_driver):\n",
    "    # df_t = df_trip.copy()\n",
    "    driver_lat_ls = []\n",
    "    driver_lng_ls = []\n",
    "    k = 0\n",
    "    for i, df in df_trip.iterrows():\n",
    "        trip_id = df['Trip ID']\n",
    "        drivers = df_driver[df_driver['order_id']==trip_id]\n",
    "        driver = drivers[drivers['driver_action']==\"accepted\"]\n",
    "        if len(driver)>0:\n",
    "            print(driver['lat'])\n",
    "            print(driver['lng'])\n",
    "            driver_lat_ls.append(float(driver['lat']))\n",
    "            driver_lng_ls.append(float(driver['lng']))\n",
    "            # df['driver_lat'] = driver['lat']\n",
    "            # df['driver_lng'] = driver['lng']\n",
    "        else:\n",
    "            driver_lat_ls.append(0.0)\n",
    "            driver_lng_ls.append(0.0)\n",
    "        # k+=1\n",
    "        # if k > 1000:\n",
    "        #     print(k)\n",
    "        #     k=0\n",
    "\n",
    "    return driver_lat_ls, driver_lng_ls   "
   ]
  },
  {
   "cell_type": "code",
   "execution_count": null,
   "metadata": {},
   "outputs": [],
   "source": []
  },
  {
   "cell_type": "code",
   "execution_count": 7,
   "metadata": {},
   "outputs": [],
   "source": [
    "driver_lat,driver_lng = causalhelper.combine_get_driver_locations(preprocessed_trip_df, df_driver)"
   ]
  },
  {
   "cell_type": "code",
   "execution_count": 9,
   "metadata": {},
   "outputs": [],
   "source": [
    "preprocessed_trip_df['driver_lat'] = driver_lat\n",
    "preprocessed_trip_df['driver_lng'] = driver_lng"
   ]
  },
  {
   "cell_type": "code",
   "execution_count": 11,
   "metadata": {},
   "outputs": [],
   "source": [
    "driver_lat_coordinates = preprocessed_trip_df['driver_lat'].tolist()\n",
    "driver_lng_coordinates = preprocessed_trip_df['driver_lng'].tolist()\n",
    "ending_coordinates = []\n",
    "for i in range(len(driver_lat_coordinates)):\n",
    "    ending_coordinates.append(f'{driver_lat_coordinates[i]},{driver_lng_coordinates[i]}')"
   ]
  },
  {
   "cell_type": "code",
   "execution_count": 12,
   "metadata": {},
   "outputs": [],
   "source": [
    "start_coordinates = preprocessed_trip_df['Trip Origin'].tolist()"
   ]
  },
  {
   "cell_type": "markdown",
   "metadata": {},
   "source": [
    "#### Calculate distance based on coordinates of driver"
   ]
  },
  {
   "cell_type": "code",
   "execution_count": 13,
   "metadata": {},
   "outputs": [
    {
     "ename": "KeyboardInterrupt",
     "evalue": "",
     "output_type": "error",
     "traceback": [
      "\u001b[0;31m---------------------------------------------------------------------------\u001b[0m",
      "\u001b[0;31mKeyboardInterrupt\u001b[0m                         Traceback (most recent call last)",
      "Cell \u001b[0;32mIn [13], line 1\u001b[0m\n\u001b[0;32m----> 1\u001b[0m preprocessed_trip_df[\u001b[38;5;124m'\u001b[39m\u001b[38;5;124mdriver_distance\u001b[39m\u001b[38;5;124m'\u001b[39m] \u001b[38;5;241m=\u001b[39m \u001b[43meda_pipeline\u001b[49m\u001b[38;5;241;43m.\u001b[39;49m\u001b[43mcalculate_distances\u001b[49m\u001b[43m(\u001b[49m\u001b[43mstart_coordinates\u001b[49m\u001b[43m,\u001b[49m\u001b[43m \u001b[49m\u001b[43mending_coordinates\u001b[49m\u001b[43m)\u001b[49m\n",
      "File \u001b[0;32m~/Documents/10_Academy/Causal Inference/scripts/eda_pipeline.py:49\u001b[0m, in \u001b[0;36mEDAPipeline.calculate_distances\u001b[0;34m(self, starting_coordinates, ending_coordinates)\u001b[0m\n\u001b[1;32m     47\u001b[0m     val_end \u001b[39m=\u001b[39m \u001b[39mstr\u001b[39m(ending_coordinates[i])\u001b[39m.\u001b[39msplit(\u001b[39m'\u001b[39m\u001b[39m,\u001b[39m\u001b[39m'\u001b[39m)\n\u001b[1;32m     48\u001b[0m     ending_tuple \u001b[39m=\u001b[39m (val_end[\u001b[39m0\u001b[39m], val_end[\u001b[39m1\u001b[39m])\n\u001b[0;32m---> 49\u001b[0m     calculated_distances\u001b[39m.\u001b[39mappend(distance\u001b[39m.\u001b[39;49mdistance(starting_tuple, ending_tuple)\u001b[39m.\u001b[39mkm)\n\u001b[1;32m     50\u001b[0m \u001b[39mreturn\u001b[39;00m calculated_distances\n",
      "File \u001b[0;32m~/anaconda3/envs/env_causal/lib/python3.8/site-packages/geopy/distance.py:522\u001b[0m, in \u001b[0;36mgeodesic.__init__\u001b[0;34m(self, *args, **kwargs)\u001b[0m\n\u001b[1;32m    520\u001b[0m \u001b[39mself\u001b[39m\u001b[39m.\u001b[39mset_ellipsoid(kwargs\u001b[39m.\u001b[39mpop(\u001b[39m'\u001b[39m\u001b[39mellipsoid\u001b[39m\u001b[39m'\u001b[39m, \u001b[39m'\u001b[39m\u001b[39mWGS-84\u001b[39m\u001b[39m'\u001b[39m))\n\u001b[1;32m    521\u001b[0m major, minor, f \u001b[39m=\u001b[39m \u001b[39mself\u001b[39m\u001b[39m.\u001b[39mELLIPSOID\n\u001b[0;32m--> 522\u001b[0m \u001b[39msuper\u001b[39;49m()\u001b[39m.\u001b[39;49m\u001b[39m__init__\u001b[39;49m(\u001b[39m*\u001b[39;49margs, \u001b[39m*\u001b[39;49m\u001b[39m*\u001b[39;49mkwargs)\n",
      "File \u001b[0;32m~/anaconda3/envs/env_causal/lib/python3.8/site-packages/geopy/distance.py:276\u001b[0m, in \u001b[0;36mDistance.__init__\u001b[0;34m(self, *args, **kwargs)\u001b[0m\n\u001b[1;32m    274\u001b[0m \u001b[39melif\u001b[39;00m \u001b[39mlen\u001b[39m(args) \u001b[39m>\u001b[39m \u001b[39m1\u001b[39m:\n\u001b[1;32m    275\u001b[0m     \u001b[39mfor\u001b[39;00m a, b \u001b[39min\u001b[39;00m util\u001b[39m.\u001b[39mpairwise(args):\n\u001b[0;32m--> 276\u001b[0m         kilometers \u001b[39m+\u001b[39m\u001b[39m=\u001b[39m \u001b[39mself\u001b[39;49m\u001b[39m.\u001b[39;49mmeasure(a, b)\n\u001b[1;32m    278\u001b[0m kilometers \u001b[39m+\u001b[39m\u001b[39m=\u001b[39m units\u001b[39m.\u001b[39mkilometers(\u001b[39m*\u001b[39m\u001b[39m*\u001b[39mkwargs)\n\u001b[1;32m    279\u001b[0m \u001b[39mself\u001b[39m\u001b[39m.\u001b[39m__kilometers \u001b[39m=\u001b[39m kilometers\n",
      "File \u001b[0;32m~/anaconda3/envs/env_causal/lib/python3.8/site-packages/geopy/distance.py:546\u001b[0m, in \u001b[0;36mgeodesic.measure\u001b[0;34m(self, a, b)\u001b[0m\n\u001b[1;32m    541\u001b[0m lat2, lon2 \u001b[39m=\u001b[39m b\u001b[39m.\u001b[39mlatitude, b\u001b[39m.\u001b[39mlongitude\n\u001b[1;32m    543\u001b[0m \u001b[39mif\u001b[39;00m \u001b[39mnot\u001b[39;00m (\u001b[39misinstance\u001b[39m(\u001b[39mself\u001b[39m\u001b[39m.\u001b[39mgeod, Geodesic) \u001b[39mand\u001b[39;00m\n\u001b[1;32m    544\u001b[0m         \u001b[39mself\u001b[39m\u001b[39m.\u001b[39mgeod\u001b[39m.\u001b[39ma \u001b[39m==\u001b[39m \u001b[39mself\u001b[39m\u001b[39m.\u001b[39mELLIPSOID[\u001b[39m0\u001b[39m] \u001b[39mand\u001b[39;00m\n\u001b[1;32m    545\u001b[0m         \u001b[39mself\u001b[39m\u001b[39m.\u001b[39mgeod\u001b[39m.\u001b[39mf \u001b[39m==\u001b[39m \u001b[39mself\u001b[39m\u001b[39m.\u001b[39mELLIPSOID[\u001b[39m2\u001b[39m]):\n\u001b[0;32m--> 546\u001b[0m     \u001b[39mself\u001b[39m\u001b[39m.\u001b[39mgeod \u001b[39m=\u001b[39m Geodesic(\u001b[39mself\u001b[39;49m\u001b[39m.\u001b[39;49mELLIPSOID[\u001b[39m0\u001b[39;49m], \u001b[39mself\u001b[39;49m\u001b[39m.\u001b[39;49mELLIPSOID[\u001b[39m2\u001b[39;49m])\n\u001b[1;32m    548\u001b[0m s12 \u001b[39m=\u001b[39m \u001b[39mself\u001b[39m\u001b[39m.\u001b[39mgeod\u001b[39m.\u001b[39mInverse(lat1, lon1, lat2, lon2,\n\u001b[1;32m    549\u001b[0m                         Geodesic\u001b[39m.\u001b[39mDISTANCE)[\u001b[39m'\u001b[39m\u001b[39ms12\u001b[39m\u001b[39m'\u001b[39m]\n\u001b[1;32m    551\u001b[0m \u001b[39mreturn\u001b[39;00m s12\n",
      "File \u001b[0;32m~/anaconda3/envs/env_causal/lib/python3.8/site-packages/geographiclib/geodesic.py:320\u001b[0m, in \u001b[0;36mGeodesic.__init__\u001b[0;34m(self, a, f)\u001b[0m\n\u001b[1;32m    318\u001b[0m \u001b[39mself\u001b[39m\u001b[39m.\u001b[39m_A3coeff()\n\u001b[1;32m    319\u001b[0m \u001b[39mself\u001b[39m\u001b[39m.\u001b[39m_C3coeff()\n\u001b[0;32m--> 320\u001b[0m \u001b[39mself\u001b[39;49m\u001b[39m.\u001b[39;49m_C4coeff()\n",
      "File \u001b[0;32m~/anaconda3/envs/env_causal/lib/python3.8/site-packages/geographiclib/geodesic.py:368\u001b[0m, in \u001b[0;36mGeodesic._C4coeff\u001b[0;34m(self)\u001b[0m\n\u001b[1;32m    366\u001b[0m \u001b[39mdef\u001b[39;00m \u001b[39m_C4coeff\u001b[39m(\u001b[39mself\u001b[39m):\n\u001b[1;32m    367\u001b[0m   \u001b[39m\"\"\"Private: return coefficients for C4\"\"\"\u001b[39;00m\n\u001b[0;32m--> 368\u001b[0m   coeff \u001b[39m=\u001b[39m [\n\u001b[1;32m    369\u001b[0m     \u001b[39m97\u001b[39m, \u001b[39m15015\u001b[39m,\n\u001b[1;32m    370\u001b[0m     \u001b[39m1088\u001b[39m, \u001b[39m156\u001b[39m, \u001b[39m45045\u001b[39m,\n\u001b[1;32m    371\u001b[0m     \u001b[39m-\u001b[39m\u001b[39m224\u001b[39m, \u001b[39m-\u001b[39m\u001b[39m4784\u001b[39m, \u001b[39m1573\u001b[39m, \u001b[39m45045\u001b[39m,\n\u001b[1;32m    372\u001b[0m     \u001b[39m-\u001b[39m\u001b[39m10656\u001b[39m, \u001b[39m14144\u001b[39m, \u001b[39m-\u001b[39m\u001b[39m4576\u001b[39m, \u001b[39m-\u001b[39m\u001b[39m858\u001b[39m, \u001b[39m45045\u001b[39m,\n\u001b[1;32m    373\u001b[0m     \u001b[39m64\u001b[39m, \u001b[39m624\u001b[39m, \u001b[39m-\u001b[39m\u001b[39m4576\u001b[39m, \u001b[39m6864\u001b[39m, \u001b[39m-\u001b[39m\u001b[39m3003\u001b[39m, \u001b[39m15015\u001b[39m,\n\u001b[1;32m    374\u001b[0m     \u001b[39m100\u001b[39m, \u001b[39m208\u001b[39m, \u001b[39m572\u001b[39m, \u001b[39m3432\u001b[39m, \u001b[39m-\u001b[39m\u001b[39m12012\u001b[39m, \u001b[39m30030\u001b[39m, \u001b[39m45045\u001b[39m,\n\u001b[1;32m    375\u001b[0m     \u001b[39m1\u001b[39m, \u001b[39m9009\u001b[39m,\n\u001b[1;32m    376\u001b[0m     \u001b[39m-\u001b[39m\u001b[39m2944\u001b[39m, \u001b[39m468\u001b[39m, \u001b[39m135135\u001b[39m,\n\u001b[1;32m    377\u001b[0m     \u001b[39m5792\u001b[39m, \u001b[39m1040\u001b[39m, \u001b[39m-\u001b[39m\u001b[39m1287\u001b[39m, \u001b[39m135135\u001b[39m,\n\u001b[1;32m    378\u001b[0m     \u001b[39m5952\u001b[39m, \u001b[39m-\u001b[39m\u001b[39m11648\u001b[39m, \u001b[39m9152\u001b[39m, \u001b[39m-\u001b[39m\u001b[39m2574\u001b[39m, \u001b[39m135135\u001b[39m,\n\u001b[1;32m    379\u001b[0m     \u001b[39m-\u001b[39m\u001b[39m64\u001b[39m, \u001b[39m-\u001b[39m\u001b[39m624\u001b[39m, \u001b[39m4576\u001b[39m, \u001b[39m-\u001b[39m\u001b[39m6864\u001b[39m, \u001b[39m3003\u001b[39m, \u001b[39m135135\u001b[39m,\n\u001b[1;32m    380\u001b[0m     \u001b[39m8\u001b[39m, \u001b[39m10725\u001b[39m,\n\u001b[1;32m    381\u001b[0m     \u001b[39m1856\u001b[39m, \u001b[39m-\u001b[39m\u001b[39m936\u001b[39m, \u001b[39m225225\u001b[39m,\n\u001b[1;32m    382\u001b[0m     \u001b[39m-\u001b[39m\u001b[39m8448\u001b[39m, \u001b[39m4992\u001b[39m, \u001b[39m-\u001b[39m\u001b[39m1144\u001b[39m, \u001b[39m225225\u001b[39m,\n\u001b[1;32m    383\u001b[0m     \u001b[39m-\u001b[39m\u001b[39m1440\u001b[39m, \u001b[39m4160\u001b[39m, \u001b[39m-\u001b[39m\u001b[39m4576\u001b[39m, \u001b[39m1716\u001b[39m, \u001b[39m225225\u001b[39m,\n\u001b[1;32m    384\u001b[0m     \u001b[39m-\u001b[39m\u001b[39m136\u001b[39m, \u001b[39m63063\u001b[39m,\n\u001b[1;32m    385\u001b[0m     \u001b[39m1024\u001b[39m, \u001b[39m-\u001b[39m\u001b[39m208\u001b[39m, \u001b[39m105105\u001b[39m,\n\u001b[1;32m    386\u001b[0m     \u001b[39m3584\u001b[39m, \u001b[39m-\u001b[39m\u001b[39m3328\u001b[39m, \u001b[39m1144\u001b[39m, \u001b[39m315315\u001b[39m,\n\u001b[1;32m    387\u001b[0m     \u001b[39m-\u001b[39m\u001b[39m128\u001b[39m, \u001b[39m135135\u001b[39m,\n\u001b[1;32m    388\u001b[0m     \u001b[39m-\u001b[39m\u001b[39m2560\u001b[39m, \u001b[39m832\u001b[39m, \u001b[39m405405\u001b[39m,\n\u001b[1;32m    389\u001b[0m     \u001b[39m128\u001b[39m, \u001b[39m99099\u001b[39m,\n\u001b[1;32m    390\u001b[0m   ]\n\u001b[1;32m    391\u001b[0m   o \u001b[39m=\u001b[39m \u001b[39m0\u001b[39m; k \u001b[39m=\u001b[39m \u001b[39m0\u001b[39m\n\u001b[1;32m    392\u001b[0m   \u001b[39mfor\u001b[39;00m l \u001b[39min\u001b[39;00m \u001b[39mrange\u001b[39m(Geodesic\u001b[39m.\u001b[39mnC4_): \u001b[39m# l is index of C4[l]\u001b[39;00m\n",
      "\u001b[0;31mKeyboardInterrupt\u001b[0m: "
     ]
    }
   ],
   "source": [
    "preprocessed_trip_df['driver_distance'] = eda_pipeline.calculate_distances(start_coordinates, ending_coordinates)\n"
   ]
  },
  {
   "cell_type": "code",
   "execution_count": null,
   "metadata": {},
   "outputs": [],
   "source": []
  },
  {
   "cell_type": "code",
   "execution_count": 37,
   "metadata": {},
   "outputs": [
    {
     "data": {
      "text/html": [
       "<div>\n",
       "<style scoped>\n",
       "    .dataframe tbody tr th:only-of-type {\n",
       "        vertical-align: middle;\n",
       "    }\n",
       "\n",
       "    .dataframe tbody tr th {\n",
       "        vertical-align: top;\n",
       "    }\n",
       "\n",
       "    .dataframe thead th {\n",
       "        text-align: right;\n",
       "    }\n",
       "</style>\n",
       "<table border=\"1\" class=\"dataframe\">\n",
       "  <thead>\n",
       "    <tr style=\"text-align: right;\">\n",
       "      <th></th>\n",
       "      <th>Unnamed: 0</th>\n",
       "      <th>Trip ID</th>\n",
       "      <th>Trip Origin</th>\n",
       "      <th>Trip Destination</th>\n",
       "      <th>Trip Start Time</th>\n",
       "      <th>Trip End Time</th>\n",
       "      <th>is_weekend</th>\n",
       "      <th>is_holiday</th>\n",
       "      <th>distance</th>\n",
       "      <th>speed</th>\n",
       "      <th>driver_distance</th>\n",
       "      <th>driver_lat</th>\n",
       "      <th>driver_lng</th>\n",
       "    </tr>\n",
       "  </thead>\n",
       "  <tbody>\n",
       "  </tbody>\n",
       "</table>\n",
       "</div>"
      ],
      "text/plain": [
       "Empty DataFrame\n",
       "Columns: [Unnamed: 0, Trip ID, Trip Origin, Trip Destination, Trip Start Time, Trip End Time, is_weekend, is_holiday, distance, speed, driver_distance, driver_lat, driver_lng]\n",
       "Index: []"
      ]
     },
     "execution_count": 37,
     "metadata": {},
     "output_type": "execute_result"
    }
   ],
   "source": [
    "preprocessed_trip_df[preprocessed_trip_df['driver_lng']!=0.0]"
   ]
  },
  {
   "cell_type": "code",
   "execution_count": null,
   "metadata": {},
   "outputs": [],
   "source": []
  }
 ],
 "metadata": {
  "kernelspec": {
   "display_name": "Python 3.8.13 ('env_causal')",
   "language": "python",
   "name": "python3"
  },
  "language_info": {
   "codemirror_mode": {
    "name": "ipython",
    "version": 3
   },
   "file_extension": ".py",
   "mimetype": "text/x-python",
   "name": "python",
   "nbconvert_exporter": "python",
   "pygments_lexer": "ipython3",
   "version": "3.8.13"
  },
  "orig_nbformat": 4,
  "vscode": {
   "interpreter": {
    "hash": "fb9244082fb8597280526a46cd6bff838b19e59c9aa6fff5f72e93e9af2900f5"
   }
  }
 },
 "nbformat": 4,
 "nbformat_minor": 2
}
