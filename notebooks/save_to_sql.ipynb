{
 "cells": [
  {
   "cell_type": "markdown",
   "metadata": {},
   "source": [
    "#### Import Modules"
   ]
  },
  {
   "cell_type": "code",
   "execution_count": 3,
   "metadata": {},
   "outputs": [],
   "source": [
    "from sqlalchemy import create_engine\n",
    "import pandas as pd\n",
    "import sys, os\n",
    "sys.path.append(os.path.abspath(os.path.join('../scripts')))\n",
    "from eda_pipeline import EDAPipeline"
   ]
  },
  {
   "cell_type": "code",
   "execution_count": 4,
   "metadata": {},
   "outputs": [
    {
     "name": "stdout",
     "output_type": "stream",
     "text": [
      "<class 'pandas.core.frame.DataFrame'>\n",
      "RangeIndex: 26436 entries, 0 to 26435\n",
      "Data columns (total 15 columns):\n",
      " #   Column            Non-Null Count  Dtype  \n",
      "---  ------            --------------  -----  \n",
      " 0   Unnamed: 0.1      26436 non-null  int64  \n",
      " 1   Unnamed: 0        26436 non-null  int64  \n",
      " 2   Trip ID           26436 non-null  int64  \n",
      " 3   Trip Origin       26436 non-null  object \n",
      " 4   Trip Destination  26436 non-null  object \n",
      " 5   Trip Start Time   26436 non-null  object \n",
      " 6   Trip End Time     26436 non-null  object \n",
      " 7   is_weekend        26436 non-null  int64  \n",
      " 8   is_holiday        26436 non-null  int64  \n",
      " 9   distance          26436 non-null  float64\n",
      " 10  speed             26436 non-null  float64\n",
      " 11  driver_distance   26436 non-null  float64\n",
      " 12  driver_lat        26436 non-null  float64\n",
      " 13  driver_lng        26436 non-null  float64\n",
      " 14  is_fulfilled      26436 non-null  int64  \n",
      "dtypes: float64(5), int64(6), object(4)\n",
      "memory usage: 3.0+ MB\n"
     ]
    }
   ],
   "source": [
    "eda_pipeline = EDAPipeline()\n",
    "preprocessed_trip_df = eda_pipeline.read_data(path=\"../data/preprocessed_trip_df_with_drivers_fulfilled.csv\", version=\"v1_preprocessed_with_fulfilled\")\n",
    "preprocessed_trip_df.info()"
   ]
  },
  {
   "cell_type": "code",
   "execution_count": 5,
   "metadata": {},
   "outputs": [
    {
     "name": "stdout",
     "output_type": "stream",
     "text": [
      "<class 'pandas.core.frame.DataFrame'>\n",
      "RangeIndex: 26436 entries, 0 to 26435\n",
      "Data columns (total 13 columns):\n",
      " #   Column            Non-Null Count  Dtype  \n",
      "---  ------            --------------  -----  \n",
      " 0   Trip ID           26436 non-null  int64  \n",
      " 1   Trip Origin       26436 non-null  object \n",
      " 2   Trip Destination  26436 non-null  object \n",
      " 3   Trip Start Time   26436 non-null  object \n",
      " 4   Trip End Time     26436 non-null  object \n",
      " 5   is_weekend        26436 non-null  int64  \n",
      " 6   is_holiday        26436 non-null  int64  \n",
      " 7   distance          26436 non-null  float64\n",
      " 8   speed             26436 non-null  float64\n",
      " 9   driver_distance   26436 non-null  float64\n",
      " 10  driver_lat        26436 non-null  float64\n",
      " 11  driver_lng        26436 non-null  float64\n",
      " 12  is_fulfilled      26436 non-null  int64  \n",
      "dtypes: float64(5), int64(4), object(4)\n",
      "memory usage: 2.6+ MB\n"
     ]
    }
   ],
   "source": [
    "preprocessed_trip_df = preprocessed_trip_df.drop(columns=['Unnamed: 0.1', 'Unnamed: 0'])\n",
    "preprocessed_trip_df.info()"
   ]
  },
  {
   "cell_type": "code",
   "execution_count": 7,
   "metadata": {},
   "outputs": [],
   "source": [
    "sql_engine = create_engine('mysql+pymysql://root:@localhost/merged_data_set')\n"
   ]
  },
  {
   "cell_type": "code",
   "execution_count": 8,
   "metadata": {},
   "outputs": [
    {
     "name": "stdout",
     "output_type": "stream",
     "text": [
      "writing to the database\n",
      "successful\n"
     ]
    }
   ],
   "source": [
    "try:\n",
    "    print('writing to the database')\n",
    "    frame = preprocessed_trip_df.to_sql(\n",
    "        \"merged_data_set_with_fullfilled\", con=sql_engine, if_exists='replace')\n",
    "    print('successful')\n",
    "except Exception as e:\n",
    "  print(\"Error writing to database: \", e)"
   ]
  },
  {
   "cell_type": "code",
   "execution_count": 9,
   "metadata": {},
   "outputs": [
    {
     "data": {
      "text/plain": [
       "(26436, 14)"
      ]
     },
     "execution_count": 9,
     "metadata": {},
     "output_type": "execute_result"
    }
   ],
   "source": [
    "df = pd.read_sql(\"select * from merged_data_set.merged_data_set_with_fullfilled\", sql_engine)\n",
    "df.shape"
   ]
  },
  {
   "cell_type": "code",
   "execution_count": null,
   "metadata": {},
   "outputs": [],
   "source": []
  }
 ],
 "metadata": {
  "kernelspec": {
   "display_name": "Python 3.8.13 ('env_causal')",
   "language": "python",
   "name": "python3"
  },
  "language_info": {
   "codemirror_mode": {
    "name": "ipython",
    "version": 3
   },
   "file_extension": ".py",
   "mimetype": "text/x-python",
   "name": "python",
   "nbconvert_exporter": "python",
   "pygments_lexer": "ipython3",
   "version": "3.8.13"
  },
  "orig_nbformat": 4,
  "vscode": {
   "interpreter": {
    "hash": "fb9244082fb8597280526a46cd6bff838b19e59c9aa6fff5f72e93e9af2900f5"
   }
  }
 },
 "nbformat": 4,
 "nbformat_minor": 2
}
